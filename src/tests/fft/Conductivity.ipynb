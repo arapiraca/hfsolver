{
 "cells": [
  {
   "cell_type": "code",
   "execution_count": null,
   "metadata": {
    "collapsed": false
   },
   "outputs": [],
   "source": [
    "%pylab inline"
   ]
  },
  {
   "cell_type": "code",
   "execution_count": null,
   "metadata": {
    "collapsed": false,
    "scrolled": true
   },
   "outputs": [],
   "source": [
    "!scp redhawk:repos/hfsolver/src/tests/fft/of_cond.txt .\n",
    "D = loadtxt(\"of_cond.txt\")\n",
    "t = D[:, 1]\n",
    "jx = D[:, 2]\n",
    "jy = D[:, 3]\n",
    "jz = D[:, 4]\n",
    "E = D[:, 5]\n",
    "\n",
    "plot(t, jx, \"x-\")\n",
    "plot(t, jy)\n",
    "plot(t, jz)\n",
    "show()\n",
    "plot(t, E)"
   ]
  }
 ],
 "metadata": {
  "kernelspec": {
   "display_name": "Python 2",
   "language": "python",
   "name": "python2"
  },
  "language_info": {
   "codemirror_mode": {
    "name": "ipython",
    "version": 2
   },
   "file_extension": ".py",
   "mimetype": "text/x-python",
   "name": "python",
   "nbconvert_exporter": "python",
   "pygments_lexer": "ipython2",
   "version": "2.7.12"
  }
 },
 "nbformat": 4,
 "nbformat_minor": 0
}
