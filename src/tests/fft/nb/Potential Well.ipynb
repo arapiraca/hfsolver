{
 "cells": [
  {
   "cell_type": "markdown",
   "metadata": {},
   "source": [
    "# Finite Potential Well\n",
    "\n",
    "This notebook calculates the ground state energy of a 1D finite potential well and checks the limit of an infinite well."
   ]
  },
  {
   "cell_type": "code",
   "execution_count": 1,
   "metadata": {
    "collapsed": false
   },
   "outputs": [
    {
     "name": "stdout",
     "output_type": "stream",
     "text": [
      "Populating the interactive namespace from numpy and matplotlib\n"
     ]
    }
   ],
   "source": [
    "%pylab inline\n",
    "from scipy.optimize import bisect"
   ]
  },
  {
   "cell_type": "markdown",
   "metadata": {},
   "source": [
    "The potential well has zero potential inside the well and $V_0$ potential outside."
   ]
  },
  {
   "cell_type": "code",
   "execution_count": 2,
   "metadata": {
    "collapsed": true
   },
   "outputs": [],
   "source": [
    "def ground_state(d, V0):\n",
    "    return bisect(lambda E: sqrt(2*(V0-E))-tan(sqrt(2*E)*d/2)*sqrt(2*E), 0, min(V0, (pi/d)**2/2-1e-8))"
   ]
  },
  {
   "cell_type": "markdown",
   "metadata": {},
   "source": [
    "Let us plot the differences from the ground state energy from the infinite well ground state energy:\n",
    "$$E_0 = {\\pi^2\\over 2 d^2}$$\n",
    "We use some arbitrary $d$:"
   ]
  },
  {
   "cell_type": "code",
   "execution_count": 3,
   "metadata": {
    "collapsed": false
   },
   "outputs": [
    {
     "data": {
      "image/png": "[encoded data removed]",
      "text/plain": [
       "<matplotlib.figure.Figure at 0x7f4ee1b0bd10>"
      ]
     },
     "metadata": {},
     "output_type": "display_data"
    }
   ],
   "source": [
    "d = 2.3\n",
    "V0 = 10**linspace(-3, 15, 50)\n",
    "E0 = array([ground_state(d, x) for x in V0])\n",
    "E0_inf = pi**2/(2*d**2)\n",
    "loglog(V0, abs(E0-E0_inf), \"o\")\n",
    "xlabel(\"$V_0$ [a.u.]\")\n",
    "ylabel(\"Energy difference to infinite well [a.u.]\")\n",
    "title(\"Convergence study of finite well to infinite one\")\n",
    "grid()"
   ]
  },
  {
   "cell_type": "markdown",
   "metadata": {},
   "source": [
    "Now let's do a specific case $V_0=0.6$ and $d=1$, and shift the energy by $V_0$, i.e. we have zero potential outside of the well and $-V_0$ potential inside the well:"
   ]
  },
  {
   "cell_type": "code",
   "execution_count": 10,
   "metadata": {
    "collapsed": false
   },
   "outputs": [
    {
     "data": {
      "text/plain": [
       "-0.40381421957672525"
      ]
     },
     "execution_count": 10,
     "metadata": {},
     "output_type": "execute_result"
    }
   ],
   "source": [
    "V0 = 1/sqrt(2)\n",
    "d = 2.2\n",
    "E0 = ground_state(d, V0)\n",
    "E0-V0"
   ]
  },
  {
   "cell_type": "code",
   "execution_count": null,
   "metadata": {
    "collapsed": true
   },
   "outputs": [],
   "source": []
  }
 ],
 "metadata": {
  "kernelspec": {
   "display_name": "Python 2",
   "language": "python",
   "name": "python2"
  },
  "language_info": {
   "codemirror_mode": {
    "name": "ipython",
    "version": 2
   },
   "file_extension": ".py",
   "mimetype": "text/x-python",
   "name": "python",
   "nbconvert_exporter": "python",
   "pygments_lexer": "ipython2",
   "version": "2.7.11"
  }
 },
 "nbformat": 4,
 "nbformat_minor": 0
}
