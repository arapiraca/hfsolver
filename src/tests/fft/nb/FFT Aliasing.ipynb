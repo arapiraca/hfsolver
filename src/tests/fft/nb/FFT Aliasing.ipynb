{
 "cells": [
  {
   "cell_type": "code",
   "execution_count": null,
   "metadata": {
    "collapsed": false
   },
   "outputs": [],
   "source": [
    "%pylab inline"
   ]
  },
  {
   "cell_type": "code",
   "execution_count": null,
   "metadata": {
    "collapsed": true
   },
   "outputs": [],
   "source": [
    "from ipywidgets import interact, interactive, fixed, interact_manual\n",
    "import ipywidgets as widgets"
   ]
  },
  {
   "cell_type": "code",
   "execution_count": null,
   "metadata": {
    "collapsed": true
   },
   "outputs": [],
   "source": [
    "from numpy.fft import fft, ifft\n",
    "\n",
    "def real_space_vectors(N, L):\n",
    "    return linspace(0, L, N+1)[:-1]\n",
    "\n",
    "def reciprocal_space_vectors(N, L):\n",
    "    G = fftfreq(N, d=1./N) * 2*pi/L\n",
    "    if N%2 == 0: G[N/2] *= -1\n",
    "    G2 = G**2\n",
    "    return G, G2\n",
    "\n",
    "def real2fourier(X):\n",
    "    return fft(X)/size(X)\n",
    "\n",
    "def fourier2real(X):\n",
    "    return ifft(X)*size(X)"
   ]
  },
  {
   "cell_type": "code",
   "execution_count": null,
   "metadata": {
    "collapsed": false
   },
   "outputs": [],
   "source": [
    "def f(N):\n",
    "    L = 2*pi\n",
    "    X = real_space_vectors(N, L)\n",
    "    G, G2 = reciprocal_space_vectors(N, L)\n",
    "\n",
    "    x = 0\n",
    "    M = 20\n",
    "    for i in range(1, M, 2):\n",
    "        x += cos(i*X) * (M-i)\n",
    "\n",
    "    y = real2fourier(x)\n",
    "    figure(figsize=(12, 4))\n",
    "    subplot(121)\n",
    "    xlim([0, L])\n",
    "    plot(X, x)\n",
    "    subplot(122)\n",
    "    plot(G, abs(y), \"o\")\n",
    "    xlim([-25, 25])\n",
    "    ylim([0, 10])"
   ]
  },
  {
   "cell_type": "code",
   "execution_count": null,
   "metadata": {
    "collapsed": false
   },
   "outputs": [],
   "source": [
    "interact(f, N=widgets.IntSlider(min=1,max=99,step=1,value=45));"
   ]
  }
 ],
 "metadata": {
  "kernelspec": {
   "display_name": "Python 2",
   "language": "python",
   "name": "python2"
  },
  "language_info": {
   "codemirror_mode": {
    "name": "ipython",
    "version": 2
   },
   "file_extension": ".py",
   "mimetype": "text/x-python",
   "name": "python",
   "nbconvert_exporter": "python",
   "pygments_lexer": "ipython2",
   "version": "2.7.12"
  },
  "widgets": {
   "state": {
    "5d6dedb6501146b1bf1c5670c2d8066a": {
     "views": [
      {
       "cell_index": 4
      }
     ]
    }
   },
   "version": "1.2.0"
  }
 },
 "nbformat": 4,
 "nbformat_minor": 1
}
