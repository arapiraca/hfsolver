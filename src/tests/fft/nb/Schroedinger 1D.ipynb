{
 "cells": [
  {
   "cell_type": "code",
   "execution_count": null,
   "metadata": {},
   "outputs": [],
   "source": [
    "%pylab inline"
   ]
  },
  {
   "cell_type": "code",
   "execution_count": null,
   "metadata": {},
   "outputs": [],
   "source": [
    "D = loadtxt(\"../sch1d_grid.txt\")\n",
    "Xn = D[0, :]\n",
    "Vna = D[1, :]\n",
    "psi = D[2, :]\n",
    "Vn = D[3, :]\n",
    "Ng = size(Xn)\n",
    "\n",
    "shift = Vna[Ng/2] - Vn[Ng/2]\n",
    "plot(Xn, Vna-shift, label=\"$V_{atom}(x)$\")\n",
    "plot(Xn, Vn, label=\"$V_{en}(x)$\")\n",
    "plot(Xn, psi, label=r\"$n(x)$\")\n",
    "title(\"L=8 a.u.; Ng=%d\" % Ng)\n",
    "legend(loc=\"upper center\")\n",
    "savefig(\"plots1d.pdf\")\n",
    "show()"
   ]
  },
  {
   "cell_type": "code",
   "execution_count": null,
   "metadata": {},
   "outputs": [],
   "source": [
    "plot(Xn, psi)"
   ]
  },
  {
   "cell_type": "code",
   "execution_count": null,
   "metadata": {},
   "outputs": [],
   "source": [
    "D = loadtxt(\"../sch1d_psi.txt\")\n",
    "n = size(D, 0)\n",
    "n = 4\n",
    "for i in range(n):\n",
    "    plot(Xn, D[i,:])\n",
    "title(\"Orbitals\")\n",
    "savefig(\"plots1d_psi.pdf\")\n",
    "show()"
   ]
  }
 ],
 "metadata": {
  "kernelspec": {
   "display_name": "Python 2",
   "language": "python",
   "name": "python2"
  },
  "language_info": {
   "codemirror_mode": {
    "name": "ipython",
    "version": 2
   },
   "file_extension": ".py",
   "mimetype": "text/x-python",
   "name": "python",
   "nbconvert_exporter": "python",
   "pygments_lexer": "ipython2",
   "version": "2.7.13"
  }
 },
 "nbformat": 4,
 "nbformat_minor": 1
}
