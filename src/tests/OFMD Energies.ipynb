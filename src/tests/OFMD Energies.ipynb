{
 "cells": [
  {
   "cell_type": "code",
   "execution_count": null,
   "metadata": {
    "collapsed": false
   },
   "outputs": [],
   "source": [
    "%pylab inline"
   ]
  },
  {
   "cell_type": "code",
   "execution_count": null,
   "metadata": {
    "collapsed": false
   },
   "outputs": [],
   "source": [
    "D = loadtxt(\"ofmd_results.txt\", skiprows=1)"
   ]
  },
  {
   "cell_type": "code",
   "execution_count": null,
   "metadata": {
    "collapsed": false
   },
   "outputs": [],
   "source": [
    "t  = D[:, 0]\n",
    "Fe = D[:, 1]\n",
    "Unn = D[:, 2]\n",
    "K = D[:, 3]\n",
    "F = D[:, 4]\n",
    "T = D[:, 5]\n",
    "F = Fe + Unn + K"
   ]
  },
  {
   "cell_type": "code",
   "execution_count": null,
   "metadata": {
    "collapsed": false
   },
   "outputs": [],
   "source": [
    "figure(figsize(16, 8))\n",
    "plot(t, Fe, \"b\", lw=2, label=\"Fe\")\n",
    "plot(t, Unn, \"c\", lw=2, label=\"Unn\")\n",
    "plot(t, K, \"m\", lw=2, label=\"K\")\n",
    "plot(t, F, \"rx\", lw=2, label=\"F\")\n",
    "legend()\n",
    "grid()\n",
    "title(\"Energies\")\n",
    "xlabel(\"Time [a.u.]\")\n",
    "ylabel(\"E [eV]\")\n",
    "savefig(\"MD_energies.pdf\")\n",
    "show()"
   ]
  },
  {
   "cell_type": "code",
   "execution_count": null,
   "metadata": {
    "collapsed": false
   },
   "outputs": [],
   "source": [
    "FeUnn  = Fe + Unn\n",
    "#figure(figsize(16, 8))\n",
    "plot(t, F - F.mean(), lw=2, label=\"F\")\n",
    "plot(t, FeUnn-FeUnn.mean(), label=\"Fe + Unn\")\n",
    "plot(t, K-K.mean(), label=\"K\")\n",
    "grid()\n",
    "title(\"Oscillations in Energies\")\n",
    "xlabel(\"Time [a.u.]\")\n",
    "ylabel(\"Energy difference from mean [eV]\")\n",
    "legend()\n",
    "show()"
   ]
  },
  {
   "cell_type": "code",
   "execution_count": null,
   "metadata": {
    "collapsed": false
   },
   "outputs": [],
   "source": [
    "#figure(figsize(16, 8))\n",
    "plot(t, F-F.mean(), \"rx-\", lw=2, label=\"F\")\n",
    "legend()\n",
    "grid()\n",
    "title(\"Free Energy\")\n",
    "xlabel(\"Time [a.u.]\")\n",
    "ylabel(\"E [eV]\")\n",
    "savefig(\"MD_energies.pdf\")\n",
    "show()"
   ]
  },
  {
   "cell_type": "code",
   "execution_count": null,
   "metadata": {
    "collapsed": false
   },
   "outputs": [],
   "source": [
    "#figure(figsize(16, 8))\n",
    "plot(t, Unn, \"rx-\", lw=2, label=\"Unn\")\n",
    "legend()\n",
    "grid()\n",
    "title(\"Free Energy\")\n",
    "xlabel(\"Time [a.u.]\")\n",
    "ylabel(\"E [eV]\")\n",
    "savefig(\"MD_energies.pdf\")\n",
    "show()"
   ]
  },
  {
   "cell_type": "code",
   "execution_count": null,
   "metadata": {
    "collapsed": true
   },
   "outputs": [],
   "source": []
  }
 ],
 "metadata": {
  "kernelspec": {
   "display_name": "Python 2",
   "language": "python",
   "name": "python2"
  },
  "language_info": {
   "codemirror_mode": {
    "name": "ipython",
    "version": 2
   },
   "file_extension": ".py",
   "mimetype": "text/x-python",
   "name": "python",
   "nbconvert_exporter": "python",
   "pygments_lexer": "ipython2",
   "version": "2.7.9"
  }
 },
 "nbformat": 4,
 "nbformat_minor": 0
}
