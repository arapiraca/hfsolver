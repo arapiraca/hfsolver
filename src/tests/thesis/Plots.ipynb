{
 "metadata": {
  "name": "Plots"
 },
 "nbformat": 3,
 "nbformat_minor": 0,
 "worksheets": [
  {
   "cells": [
    {
     "cell_type": "code",
     "collapsed": false,
     "input": [
      "def meshexp(rmin, rmax, a, N):\n",
      "    beta = log(a) / (N-1)\n",
      "    alpha = (rmax - rmin) / (exp(beta*N) - 1)\n",
      "    i = arange(N+1)\n",
      "    return alpha * (exp(beta*i) - 1) + rmin"
     ],
     "language": "python",
     "metadata": {},
     "outputs": []
    },
    {
     "cell_type": "code",
     "collapsed": true,
     "input": [
      "from scipy import factorial\n",
      "\n",
      "data = loadtxt(\"sols.txt\")\n",
      "l = array(data[:, 0], dtype=\"int\")\n",
      "n = data[:, 1]\n",
      "zeta = data[:, 2]\n",
      "c = data[:, 3:]\n",
      "Lmax = max(l)\n",
      "\n",
      "\n",
      "r = meshexp(1e-4, 1000, 1e6, 1000)  # exponential mesh\n",
      "\n",
      "# Evaluate solutions on this mesh P[l, state, :] are values on \"r\" of the l angular momentum and n=state+l+1\n",
      "P = zeros((Lmax+1, size(c, 1), size(r)), dtype=\"double\")\n",
      "for i in range(size(l)):\n",
      "    for state in range(size(c, 1)):\n",
      "        P[l[i], state, :] += c[i, state] * r**n[i] * exp(-zeta[i]*r) * sqrt((2*zeta[i])**(2*n[i]+1)/factorial(2*n[i]))\n",
      "        \n",
      "\n",
      "for l in range(Lmax+1):\n",
      "    for state in range(5):  # plot only 5 eigenvectors for each \"l\"\n",
      "        semilogx(r, P[l, state, :], label=\"$P_{%d,%d}$\" % (state+1+l, l))\n",
      "    xlabel(\"$r$\")\n",
      "    ylabel(\"$P_{nl}(r)$\")\n",
      "    legend()\n",
      "    title(\"Plot of $P(r) = rR(r)$ for l=%d\" % l);\n",
      "    figure()"
     ],
     "language": "python",
     "metadata": {},
     "outputs": []
    }
   ],
   "metadata": {}
  }
 ]
}