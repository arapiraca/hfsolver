{
 "cells": [
  {
   "cell_type": "code",
   "execution_count": null,
   "metadata": {},
   "outputs": [],
   "source": [
    "%pylab inline\n",
    "from numpy.polynomial.legendre import leggauss\n",
    "from scipy.special import legendre"
   ]
  },
  {
   "cell_type": "code",
   "execution_count": null,
   "metadata": {},
   "outputs": [],
   "source": [
    "Nq = 64\n",
    "x, wq = leggauss(Nq)\n",
    "Nenr = 5 # total enrichment\n",
    "Np = 4 # polynomial enrichment using Legendre polynomials\n",
    "P = empty((Nenr,Nq), dtype=\"double\")\n",
    "for n in range(Np):\n",
    "    P[n,:] = legendre(n)(x)*sqrt(n+1./2)\n",
    "\n",
    "# Non-polynomial enrichment\n",
    "f = sin(x)\n",
    "f = f / sqrt(sum(f**2*wq))\n",
    "P[Nenr-1,:] = f"
   ]
  },
  {
   "cell_type": "code",
   "execution_count": null,
   "metadata": {},
   "outputs": [],
   "source": [
    "def getS(B):\n",
    "    \"Calculate an overlap matrix\"\n",
    "    N = size(B,0)\n",
    "    S = empty((N,N), dtype=\"double\")\n",
    "    for i in range(N):\n",
    "        for j in range(N):\n",
    "            S[i,j] = sum(B[i,:]*B[j,:]*wq)\n",
    "    return S"
   ]
  },
  {
   "cell_type": "code",
   "execution_count": null,
   "metadata": {
    "collapsed": true
   },
   "outputs": [],
   "source": [
    "S = getS(P)\n",
    "eigs, vecs = eigh(S)"
   ]
  },
  {
   "cell_type": "markdown",
   "metadata": {},
   "source": [
    "The matrix **S** has ones on the diagonal, because all enrichment (polynomial and non-polynomial) is normalized to 1:"
   ]
  },
  {
   "cell_type": "code",
   "execution_count": null,
   "metadata": {},
   "outputs": [],
   "source": [
    "S.diagonal()"
   ]
  },
  {
   "cell_type": "markdown",
   "metadata": {},
   "source": [
    "However, while the Legendre polynomial part of the matrix is a unit matrix, the non-polynomial part is not:"
   ]
  },
  {
   "cell_type": "code",
   "execution_count": null,
   "metadata": {},
   "outputs": [],
   "source": [
    "print array_str(S, precision=3, suppress_small=True)"
   ]
  },
  {
   "cell_type": "markdown",
   "metadata": {},
   "source": [
    "Now we use the Löwdin symmetric orthogonalization to make everything orthogonal:"
   ]
  },
  {
   "cell_type": "code",
   "execution_count": null,
   "metadata": {},
   "outputs": [],
   "source": [
    "P2 = empty((Nenr,Nq), dtype=\"double\")\n",
    "for i in range(Nenr):\n",
    "    v = 0\n",
    "    for j in range(Nenr):\n",
    "        v += vecs[j,i]*P[j,:]\n",
    "    P2[i,:] = v / sqrt(eigs[i])"
   ]
  },
  {
   "cell_type": "markdown",
   "metadata": {},
   "source": [
    "The overlap of the new orthonormal basis P2 is a unit matrix:"
   ]
  },
  {
   "cell_type": "code",
   "execution_count": null,
   "metadata": {},
   "outputs": [],
   "source": [
    "S2 = getS(P2)\n",
    "print array_str(S2, precision=3, suppress_small=True)"
   ]
  },
  {
   "cell_type": "code",
   "execution_count": null,
   "metadata": {},
   "outputs": [],
   "source": [
    "figure(figsize(16, 4))\n",
    "subplot(121)\n",
    "title(\"Original basis\")\n",
    "for n in range(Nenr):\n",
    "    plot(x, P[n,:])\n",
    "subplot(122)\n",
    "title(\"Orthonormal basis\")\n",
    "for n in range(Nenr):\n",
    "    plot(x, P2[n,:])"
   ]
  },
  {
   "cell_type": "markdown",
   "metadata": {},
   "source": [
    "Now we look at the eigenvalues of the overlap matrix **S**:"
   ]
  },
  {
   "cell_type": "code",
   "execution_count": null,
   "metadata": {},
   "outputs": [],
   "source": [
    "eigs"
   ]
  },
  {
   "cell_type": "markdown",
   "metadata": {},
   "source": [
    "And we remove the smallest eigenvalue, which is close to zero, and construct the new basis:"
   ]
  },
  {
   "cell_type": "code",
   "execution_count": null,
   "metadata": {
    "collapsed": true
   },
   "outputs": [],
   "source": [
    "P3 = empty((Nenr-1,Nq), dtype=\"double\")\n",
    "for i in range(Nenr-1):\n",
    "    v = 0\n",
    "    for j in range(Nenr):\n",
    "        v += vecs[j,i+1]*P[j,:]\n",
    "    P3[i,:] = v / sqrt(eigs[i+1])"
   ]
  },
  {
   "cell_type": "markdown",
   "metadata": {},
   "source": [
    "The new overlap matrix is again a unit matrix, but this time we have removed one DOF:"
   ]
  },
  {
   "cell_type": "code",
   "execution_count": null,
   "metadata": {},
   "outputs": [],
   "source": [
    "S3 = getS(P3)\n",
    "print array_str(S3, precision=3, suppress_small=True)"
   ]
  },
  {
   "cell_type": "code",
   "execution_count": null,
   "metadata": {},
   "outputs": [],
   "source": [
    "figure(figsize(16, 8))\n",
    "subplot(221)\n",
    "title(\"Original Basis\")\n",
    "for n in range(Nenr):\n",
    "    plot(x, P[n,:])\n",
    "subplot(222)\n",
    "title(\"Orthonormal Basis\")\n",
    "for n in range(Nenr):\n",
    "    plot(x, P2[n,:])\n",
    "subplot(223)\n",
    "title(\"Reduced Orthonormal Basis\")\n",
    "next(gca()._get_lines.prop_cycler)\n",
    "for n in range(Nenr-1):\n",
    "    plot(x, P3[n,:])"
   ]
  },
  {
   "cell_type": "markdown",
   "metadata": {},
   "source": [
    "The condition number of all the overlap matrices:"
   ]
  },
  {
   "cell_type": "code",
   "execution_count": null,
   "metadata": {},
   "outputs": [],
   "source": [
    "print cond(S)\n",
    "print cond(S2)\n",
    "print cond(S3)"
   ]
  }
 ],
 "metadata": {
  "kernelspec": {
   "display_name": "Python 2",
   "language": "python",
   "name": "python2"
  },
  "language_info": {
   "codemirror_mode": {
    "name": "ipython",
    "version": 2
   },
   "file_extension": ".py",
   "mimetype": "text/x-python",
   "name": "python",
   "nbconvert_exporter": "python",
   "pygments_lexer": "ipython2",
   "version": "2.7.13"
  }
 },
 "nbformat": 4,
 "nbformat_minor": 2
}
