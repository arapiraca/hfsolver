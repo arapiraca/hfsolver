{
 "cells": [
  {
   "cell_type": "code",
   "execution_count": null,
   "metadata": {},
   "outputs": [],
   "source": [
    "%pylab inline"
   ]
  },
  {
   "cell_type": "code",
   "execution_count": null,
   "metadata": {},
   "outputs": [],
   "source": [
    "D = loadtxt(\"ppum.txt\")\n",
    "x = D[0, :]\n",
    "W1 = D[1, :]\n",
    "W2 = D[2, :]\n",
    "W3 = D[3, :]\n",
    "figure(figsize(16, 6))\n",
    "subplot(121)\n",
    "plot(x, W1)\n",
    "plot(x, W2)\n",
    "plot(x, W3)\n",
    "\n",
    "S = W1+W2+W3\n",
    "w1 = W1/S\n",
    "w2 = W2/S\n",
    "w3 = W3/S\n",
    "\n",
    "subplot(122)\n",
    "plot(x, w1)\n",
    "plot(x, w2)\n",
    "plot(x, w3)\n",
    "\n",
    "savefig(\"ppum_basis_p3.pdf\")\n",
    "show()"
   ]
  }
 ],
 "metadata": {
  "kernelspec": {
   "display_name": "Python 2",
   "language": "python",
   "name": "python2"
  },
  "language_info": {
   "codemirror_mode": {
    "name": "ipython",
    "version": 2
   },
   "file_extension": ".py",
   "mimetype": "text/x-python",
   "name": "python",
   "nbconvert_exporter": "python",
   "pygments_lexer": "ipython2",
   "version": "2.7.13"
  }
 },
 "nbformat": 4,
 "nbformat_minor": 1
}
