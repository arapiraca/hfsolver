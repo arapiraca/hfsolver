{
 "cells": [
  {
   "cell_type": "code",
   "execution_count": null,
   "metadata": {},
   "outputs": [],
   "source": [
    "%pylab inline"
   ]
  },
  {
   "cell_type": "code",
   "execution_count": null,
   "metadata": {},
   "outputs": [],
   "source": [
    "D = loadtxt(\"ppum.txt\")\n",
    "Ne = (size(D,0)-1)/4\n",
    "Nq = size(D,1)\n",
    "x = D[0, :]\n",
    "W = empty((Ne,Nq), dtype=\"double\")\n",
    "w = empty((Ne,Nq), dtype=\"double\")\n",
    "wp = empty((Ne,Nq), dtype=\"double\")\n",
    "wpp = empty((Ne,Nq), dtype=\"double\")\n",
    "for i in range(Ne):\n",
    "    W[i,:] = D[i+1,:]\n",
    "for i in range(Ne):\n",
    "    w[i,:] = D[i+Ne+1,:]\n",
    "for i in range(Ne):\n",
    "    wp[i,:] = D[i+2*Ne+1,:]\n",
    "for i in range(Ne):\n",
    "    wpp[i,:] = D[i+3*Ne+1,:]\n",
    "\n",
    "\n",
    "figure(figsize(16, 12))\n",
    "subplot(221)\n",
    "title(\"$W_i(x)$\")\n",
    "for i in range(Ne):\n",
    "    plot(x, W[i,:])\n",
    "\n",
    "subplot(222)\n",
    "title(\"$w_i(x)=W_i(x)/S(x)$\")\n",
    "for i in range(Ne):\n",
    "    plot(x, w[i,:])\n",
    "\n",
    "subplot(223)\n",
    "title(r\"$\\frac{d w_i}{dx}(x)$\")\n",
    "for i in range(Ne):\n",
    "    plot(x, wp[i,:])\n",
    "\n",
    "subplot(224)\n",
    "title(r\"$\\frac{d^2 w_i}{dx^2}(x)$\")\n",
    "for i in range(Ne):\n",
    "    plot(x, wpp[i,:])\n",
    "\n",
    "    \n",
    "savefig(\"ppum_basis_p3.pdf\")\n",
    "show()"
   ]
  }
 ],
 "metadata": {
  "kernelspec": {
   "display_name": "Python 2",
   "language": "python",
   "name": "python2"
  },
  "language_info": {
   "codemirror_mode": {
    "name": "ipython",
    "version": 2
   },
   "file_extension": ".py",
   "mimetype": "text/x-python",
   "name": "python",
   "nbconvert_exporter": "python",
   "pygments_lexer": "ipython2",
   "version": "2.7.13"
  }
 },
 "nbformat": 4,
 "nbformat_minor": 1
}
