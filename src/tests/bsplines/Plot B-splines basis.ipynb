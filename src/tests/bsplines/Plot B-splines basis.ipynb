{
 "cells": [
  {
   "cell_type": "code",
   "execution_count": null,
   "metadata": {
    "collapsed": false
   },
   "outputs": [],
   "source": [
    "%pylab inline"
   ]
  },
  {
   "cell_type": "code",
   "execution_count": null,
   "metadata": {
    "collapsed": false
   },
   "outputs": [],
   "source": [
    "def plot_basis(n, k):\n",
    "    D = loadtxt(\"bspline_basis_n%dk%d.txt\" % (n, k), skiprows=1)\n",
    "\n",
    "    x = D[0, :]\n",
    "    Nb = (size(D, 0)-1)/3\n",
    "    Nq = size(D, 1)\n",
    "    B = empty((Nb, Nq))\n",
    "    Bp = empty((Nb, Nq))\n",
    "    Bpp = empty((Nb, Nq))\n",
    "\n",
    "    for i in range(Nb):\n",
    "        B[i, :] = D[3*i+1, :]\n",
    "        Bp[i, :] = D[3*i+2, :]\n",
    "        Bpp[i, :] = D[3*i+3, :]\n",
    "\n",
    "    figure(figsize=(16, 4))\n",
    "    for i in range(Nb):\n",
    "        suptitle(\"B-spline basis n=%d, k=%d\" % (n, k), fontsize=14)\n",
    "        subplot(131)\n",
    "        plot(x, B[i, :], \"k-\")\n",
    "        xlabel(\"$x$\")\n",
    "        ylabel(\"$B(x)$\")\n",
    "        subplot(132)\n",
    "        plot(x, Bp[i, :], \"k-\")\n",
    "        xlabel(\"$x$\")\n",
    "        ylabel(\"$B'(x)$\")\n",
    "        subplot(133)\n",
    "        plot(x, Bpp[i, :], \"k-\")\n",
    "        xlabel(\"$x$\")\n",
    "        ylabel(\"$B''(x)$\")\n",
    "        \n",
    "for n in range(2, 8+1):\n",
    "    plot_basis(n, n)\n",
    "plot_basis(5, 4)\n",
    "plot_basis(8, 4)\n",
    "plot_basis(16, 4)"
   ]
  }
 ],
 "metadata": {
  "kernelspec": {
   "display_name": "Python 2",
   "language": "python",
   "name": "python2"
  },
  "language_info": {
   "codemirror_mode": {
    "name": "ipython",
    "version": 2
   },
   "file_extension": ".py",
   "mimetype": "text/x-python",
   "name": "python",
   "nbconvert_exporter": "python",
   "pygments_lexer": "ipython2",
   "version": "2.7.11"
  }
 },
 "nbformat": 4,
 "nbformat_minor": 0
}
