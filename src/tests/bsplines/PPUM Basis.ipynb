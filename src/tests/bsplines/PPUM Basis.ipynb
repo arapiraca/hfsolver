{
 "cells": [
  {
   "cell_type": "code",
   "execution_count": null,
   "metadata": {},
   "outputs": [],
   "source": [
    "%pylab inline"
   ]
  },
  {
   "cell_type": "code",
   "execution_count": null,
   "metadata": {},
   "outputs": [],
   "source": [
    "D = loadtxt(\"basis.txt\")\n",
    "Nb = (size(D,0)-1)/2\n",
    "Nq = size(D,1)\n",
    "B = empty((Nb,Nq), dtype=\"double\")\n",
    "Bp = empty((Nb,Nq), dtype=\"double\")\n",
    "x = D[0,:]\n",
    "for i in range(Nb):\n",
    "        B[i,:] = D[2*i+1,:]\n",
    "        Bp[i,:] = D[2*i+2,:]\n",
    "        \n",
    "figure(figsize(16, 6))\n",
    "subplot(121)\n",
    "title(\"B(x)\")\n",
    "for i in range(Nb):\n",
    "    plot(x, B[i,:])\n",
    "    \n",
    "subplot(122)\n",
    "title(\"B'(x)\")\n",
    "for i in range(Nb):\n",
    "    plot(x, Bp[i,:])\n",
    "    \n",
    "savefig(\"ppum_basis.pdf\")"
   ]
  },
  {
   "cell_type": "code",
   "execution_count": null,
   "metadata": {},
   "outputs": [],
   "source": [
    "plot(x, x**2/2)"
   ]
  }
 ],
 "metadata": {
  "kernelspec": {
   "display_name": "Python 2",
   "language": "python",
   "name": "python2"
  },
  "language_info": {
   "codemirror_mode": {
    "name": "ipython",
    "version": 2
   },
   "file_extension": ".py",
   "mimetype": "text/x-python",
   "name": "python",
   "nbconvert_exporter": "python",
   "pygments_lexer": "ipython2",
   "version": "2.7.13"
  }
 },
 "nbformat": 4,
 "nbformat_minor": 1
}
