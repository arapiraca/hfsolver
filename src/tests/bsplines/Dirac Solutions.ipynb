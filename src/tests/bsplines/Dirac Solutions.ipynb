{
 "cells": [
  {
   "cell_type": "code",
   "execution_count": null,
   "metadata": {
    "collapsed": false
   },
   "outputs": [],
   "source": [
    "%pylab inline"
   ]
  },
  {
   "cell_type": "code",
   "execution_count": null,
   "metadata": {
    "collapsed": false
   },
   "outputs": [],
   "source": [
    "D = loadtxt(\"dirac_sol.txt\")\n",
    "\n",
    "r = D[0, :]\n",
    "for i in range(1, 4):\n",
    "    B = D[i, :]\n",
    "    semilogx(r, B, \"k-\")\n",
    "#plot(r, P, \"k-\")\n",
    "xlim([0, 40])\n",
    "#ylim([0, 1])\n",
    "xlabel(\"r [a.u.]\")\n",
    "ylabel(\"$B_{nk}(r)$\")\n",
    "show()"
   ]
  }
 ],
 "metadata": {
  "kernelspec": {
   "display_name": "Python 2",
   "language": "python",
   "name": "python2"
  },
  "language_info": {
   "codemirror_mode": {
    "name": "ipython",
    "version": 2
   },
   "file_extension": ".py",
   "mimetype": "text/x-python",
   "name": "python",
   "nbconvert_exporter": "python",
   "pygments_lexer": "ipython2",
   "version": "2.7.11"
  }
 },
 "nbformat": 4,
 "nbformat_minor": 0
}
