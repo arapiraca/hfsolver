{
 "cells": [
  {
   "cell_type": "code",
   "execution_count": null,
   "metadata": {},
   "outputs": [],
   "source": [
    "%pylab inline"
   ]
  },
  {
   "cell_type": "markdown",
   "metadata": {},
   "source": [
    "## Enrichment"
   ]
  },
  {
   "cell_type": "code",
   "execution_count": null,
   "metadata": {},
   "outputs": [],
   "source": [
    "D = loadtxt(\"../enrichment.txt\", skiprows=1)\n",
    "xn = D[0, :]\n",
    "Vn = D[1, :]\n",
    "for i in range(2, 6):\n",
    "    psi = D[i, :]\n",
    "    plot(xn, psi)\n",
    "    print i, psi[:3]\n",
    "show()"
   ]
  },
  {
   "cell_type": "code",
   "execution_count": null,
   "metadata": {},
   "outputs": [],
   "source": [
    "plot(xn, Vn)"
   ]
  },
  {
   "cell_type": "markdown",
   "metadata": {},
   "source": [
    "# Solutions"
   ]
  },
  {
   "cell_type": "code",
   "execution_count": null,
   "metadata": {},
   "outputs": [],
   "source": [
    "D = loadtxt(\"../wfn.txt\", skiprows=0)\n",
    "xn = D[0, :]\n",
    "for i in range(1, 3):\n",
    "    psi = D[i, :]\n",
    "    plot(xn, psi)\n",
    "show()"
   ]
  },
  {
   "cell_type": "code",
   "execution_count": null,
   "metadata": {},
   "outputs": [],
   "source": [
    "%%file a.tmp\n",
    "    0.0213    0.0550    0.0000\n",
    "    0.0550    0.4637    0.0550\n",
    "    0.0000    0.0550    0.0213"
   ]
  },
  {
   "cell_type": "code",
   "execution_count": null,
   "metadata": {},
   "outputs": [],
   "source": [
    "a = loadtxt(\"../B.txt\")\n",
    "print svd(a[:8,:8])[1]\n",
    "print svd(a)[1]\n",
    "print eig(a)[0]"
   ]
  },
  {
   "cell_type": "code",
   "execution_count": null,
   "metadata": {},
   "outputs": [],
   "source": [
    "eig(a)"
   ]
  },
  {
   "cell_type": "code",
   "execution_count": null,
   "metadata": {},
   "outputs": [],
   "source": [
    "D = loadtxt(\"../wfn.txt\", skiprows=0)\n",
    "xn = D[0, :]\n",
    "psi = D[1, :]\n",
    "plot(xn, psi, \"x\")\n",
    "show()"
   ]
  },
  {
   "cell_type": "code",
   "execution_count": null,
   "metadata": {},
   "outputs": [],
   "source": [
    "set_printoptions(precision=2)\n",
    "a"
   ]
  }
 ],
 "metadata": {
  "kernelspec": {
   "display_name": "Python 2",
   "language": "python",
   "name": "python2"
  },
  "language_info": {
   "codemirror_mode": {
    "name": "ipython",
    "version": 2
   },
   "file_extension": ".py",
   "mimetype": "text/x-python",
   "name": "python",
   "nbconvert_exporter": "python",
   "pygments_lexer": "ipython2",
   "version": "2.7.13"
  }
 },
 "nbformat": 4,
 "nbformat_minor": 1
}
