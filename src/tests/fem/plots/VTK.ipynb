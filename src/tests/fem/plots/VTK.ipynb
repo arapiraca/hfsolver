{
 "metadata": {
  "name": "VTK"
 },
 "nbformat": 3,
 "nbformat_minor": 0,
 "worksheets": [
  {
   "cells": [
    {
     "cell_type": "code",
     "collapsed": false,
     "input": [
      "def vtk_show(renderer, w=100, h=100):\n",
      "    \"\"\"\n",
      "    Takes vtkRenderer instance and returns an IPython Image with the rendering.\n",
      "    \"\"\"\n",
      "    renderWindow = vtkRenderWindow()\n",
      "    renderWindow.SetOffScreenRendering(1)\n",
      "    renderWindow.AddRenderer(renderer)\n",
      "    renderWindow.SetSize(w, h)\n",
      "    renderWindow.Render()\n",
      "     \n",
      "    windowToImageFilter = vtkWindowToImageFilter()\n",
      "    windowToImageFilter.SetInput(renderWindow)\n",
      "    windowToImageFilter.Update()\n",
      "     \n",
      "    writer = vtkPNGWriter()\n",
      "    writer.SetWriteToMemory(1)\n",
      "    writer.SetInputConnection(windowToImageFilter.GetOutputPort())\n",
      "    writer.Write()\n",
      "    data = str(buffer(writer.GetResult()))\n",
      "    \n",
      "    from IPython.display import Image\n",
      "    return Image(data)"
     ],
     "language": "python",
     "metadata": {},
     "outputs": [],
     "prompt_number": 13
    },
    {
     "cell_type": "code",
     "collapsed": false,
     "input": [
      "from vtk import (vtkSphereSource, vtkPolyDataMapper, vtkActor, vtkRenderer,\n",
      "        vtkRenderWindow, vtkWindowToImageFilter, vtkPNGWriter)\n",
      " \n",
      "sphereSource = vtkSphereSource()\n",
      "sphereSource.SetPhiResolution(200)\n",
      "sphereSource.SetThetaResolution(200)\n",
      "mapper = vtkPolyDataMapper()\n",
      "mapper.SetInputConnection(sphereSource.GetOutputPort())\n",
      " \n",
      "actor = vtkActor()\n",
      "actor.SetMapper(mapper)\n",
      "actor.GetProperty().SetColor(1,1,0)\n",
      " \n",
      "renderer = vtkRenderer()\n",
      "renderer.AddActor(actor)\n",
      "renderer.SetBackground(1, 1, 1)\n",
      "\n",
      "vtk_show(renderer, 200, 200)"
     ],
     "language": "python",
     "metadata": {},
     "outputs": [
      {
       "output_type": "pyout",
       "png": "[encoded data removed]",
       "prompt_number": 17,
       "text": [
        "<IPython.core.display.Image at 0x2f53ad0>"
       ]
      }
     ],
     "prompt_number": 17
    },
    {
     "cell_type": "code",
     "collapsed": false,
     "input": [
      "from vtk import vtkStructuredGridReader, vtkPlane, vtkCutter\n",
      "r = vtkStructuredGridReader()\n",
      "r.SetFileName(\"../curv_cube.vtk\")\n",
      "r.Update()\n",
      "plane = vtkPlane()\n",
      "plane.SetOrigin(0, 0, 0)\n",
      "plane.SetNormal(1, 0, 0)\n",
      "\n",
      "cutter = vtkCutter()\n",
      "cutter.SetCutFunction(plane)\n",
      "cutter.SetInputConnection(r.GetOutputPort())\n",
      "cutter.Update()\n",
      " \n",
      "cutterMapper = vtkPolyDataMapper()\n",
      "cutterMapper.SetInputConnection(cutter.GetOutputPort())\n",
      " \n",
      "planeActor = vtkActor()\n",
      "planeActor.GetProperty().SetColor(1.0,1,0)\n",
      "planeActor.GetProperty().SetLineWidth(2)\n",
      "planeActor.SetMapper(cutterMapper)\n",
      "\n",
      "renderer = vtkRenderer()\n",
      "renderer.AddActor(planeActor)\n",
      "renderer.SetBackground(0,0,1)\n",
      "\n",
      "renderWindow = vtkRenderWindow()\n",
      "renderWindow.SetOffScreenRendering(1)\n",
      "renderWindow.AddRenderer(renderer)\n",
      "renderWindow.SetSize(60, 60)\n",
      "renderWindow.Render()\n",
      " \n",
      "windowToImageFilter = vtkWindowToImageFilter()\n",
      "windowToImageFilter.SetInput(renderWindow)\n",
      "windowToImageFilter.Update()\n",
      " \n",
      "writer = vtkPNGWriter()\n",
      "writer.SetWriteToMemory(1)\n",
      "writer.SetInputConnection(windowToImageFilter.GetOutputPort())\n",
      "writer.Write()\n",
      "data = str(buffer(writer.GetResult()))\n",
      "\n",
      "from IPython.display import Image\n",
      "Image(data)"
     ],
     "language": "python",
     "metadata": {},
     "outputs": [
      {
       "output_type": "pyout",
       "png": "[encoded data removed]",
       "prompt_number": 12,
       "text": [
        "<IPython.core.display.Image at 0x2f5e290>"
       ]
      }
     ],
     "prompt_number": 12
    },
    {
     "cell_type": "code",
     "collapsed": false,
     "input": [],
     "language": "python",
     "metadata": {},
     "outputs": []
    }
   ],
   "metadata": {}
  }
 ]
}