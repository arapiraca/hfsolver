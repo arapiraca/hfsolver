{
 "metadata": {
  "name": ""
 },
 "nbformat": 3,
 "nbformat_minor": 0,
 "worksheets": [
  {
   "cells": [
    {
     "cell_type": "code",
     "collapsed": false,
     "input": [
      "from sympy import pi, var, S, init_printing, log, Function, sqrt\n",
      "init_printing(use_latex=True)"
     ],
     "language": "python",
     "metadata": {},
     "outputs": [],
     "prompt_number": 1
    },
    {
     "cell_type": "markdown",
     "metadata": {},
     "source": [
      "# Exchange and Correlation Potential\n",
      "\n",
      "The basic relation for any LDA potential is the contribution to the total/free energy:\n",
      "\n",
      "$$\n",
      "    F_{xc}[n_e]\n",
      "        = \\int n_e(\\mathbf{x}) \\epsilon_{xc}^{LD}(n_e) d^3 x\\,.\n",
      "$$\n",
      "From this we calculate the XC potential $V_{xc}(\\mathbf{x})$ as a functional derivative (this follows from minimizing the total/free energy):\n",
      "$$\n",
      "V_{xc}(\\mathbf{x}) \\equiv {\\delta F_{xc}[n_e] \\over \\delta n_e} = \\epsilon_{xc}^{LD}(n_e) + n_e(\\mathbf{x})\n",
      "            {d \\epsilon_{xc}^{LD}(n_e) \\over d n_e}\n",
      "= {d \\over d n_e}\\left(n_e \\epsilon_{xc}^{LD}(n_e)\\right)\n",
      "$$\n",
      "The $n_e(\\mathbf{x})$ is the (positive) electronic particle density, $\\epsilon_{xc}^{LD}(n_e)$ is the XC energy density and $V_{xc}(\\mathbf{x})$ is the XC potential.\n",
      "\n",
      "Sometimes the potential can be decomposed into exchange and correlation parts as follows:\n",
      "$$\\epsilon_{xc}^{LD}(n_e)= \\epsilon_{x}^{LD}(n_e) + \\epsilon_{c}^{LD}(n_e)$$"
     ]
    },
    {
     "cell_type": "markdown",
     "metadata": {},
     "source": [
      "## Exchange part\n",
      "\n",
      "$$\\epsilon_{x}^{LD}(n_e) = -{3\\over 4\\pi} (3 \\pi^2 n_e)^{1\\over 3}$$"
     ]
    },
    {
     "cell_type": "code",
     "collapsed": false,
     "input": [
      "var(\"n\")\n",
      "ex = -3/(4*pi) * (3*pi**2*n)**(S(1)/3)"
     ],
     "language": "python",
     "metadata": {},
     "outputs": [],
     "prompt_number": 2
    },
    {
     "cell_type": "markdown",
     "metadata": {},
     "source": [
      "The corresponding $V_x$ is then calculated as:"
     ]
    },
    {
     "cell_type": "code",
     "collapsed": false,
     "input": [
      "Vx = (n*ex).diff(n)\n",
      "Vx"
     ],
     "language": "python",
     "metadata": {},
     "outputs": [
      {
       "latex": [
        "$$- \\frac{\\sqrt[3]{3} \\sqrt[3]{n}}{\\sqrt[3]{\\pi}}$$"
       ],
       "metadata": {},
       "output_type": "pyout",
       "png": "[encoded data removed]",
       "prompt_number": 3,
       "text": [
        " 3 ___ 3 ___\n",
        "-\u2572\u2571 3 \u22c5\u2572\u2571 n \n",
        "\u2500\u2500\u2500\u2500\u2500\u2500\u2500\u2500\u2500\u2500\u2500\u2500\n",
        "   3 ___    \n",
        "   \u2572\u2571 \u03c0     "
       ]
      }
     ],
     "prompt_number": 3
    },
    {
     "cell_type": "markdown",
     "metadata": {},
     "source": [
      "Finally, we notice:"
     ]
    },
    {
     "cell_type": "code",
     "collapsed": false,
     "input": [
      "Vx/ex"
     ],
     "language": "python",
     "metadata": {},
     "outputs": [
      {
       "latex": [
        "$$\\frac{4}{3}$$"
       ],
       "metadata": {},
       "output_type": "pyout",
       "png": "[encoded data removed]",
       "prompt_number": 4,
       "text": [
        "4/3"
       ]
      }
     ],
     "prompt_number": 4
    },
    {
     "cell_type": "markdown",
     "metadata": {},
     "source": [
      "So we have:\n",
      "$$V_{x}(\\mathbf{x}) = {4\\over 3}\\epsilon_{x}^{LD}(n_e)$$\n",
      "So this show that the exchange part can be calculated using the following Fortran statements:\n",
      "\n",
      "    ex = -3/(4*pi) * (3*pi**2*n)**(1.0_dp/3)\n",
      "    Vx = 4*ex/3"
     ]
    },
    {
     "cell_type": "markdown",
     "metadata": {},
     "source": [
      "## Correlation part of Perdew and Zunger (PZ)\n",
      "\n",
      "The following is taken from [1]. The constants are:\n",
      "\n",
      "$$\n",
      "\\begin{eqnarray*}\n",
      "\\gamma &=& -0.1423 \\\\\n",
      "\\beta_1 &=& 1.0529 \\\\\n",
      "\\beta_2 &=& 0.3334 \\\\\n",
      "A &=&  0.0311 \\\\\n",
      "B &=& -0.048 \\\\\n",
      "C &=&  0.0020 \\\\\n",
      "D &=& -0.0116 \\\\\n",
      "\\end{eqnarray*}\n",
      "$$\n",
      "\n",
      "\n",
      "[1] Perdew, J. P., & Zunger, A. (1981). Self-interaction correction to\n",
      "density-functional approximations for many-electron systems. Physical Review\n",
      "B, 23(10), 5048\u20135079."
     ]
    },
    {
     "cell_type": "code",
     "collapsed": false,
     "input": [
      "rs = (3/(4*pi*n))**(S(1)/3)\n",
      "rs"
     ],
     "language": "python",
     "metadata": {},
     "outputs": [
      {
       "latex": [
        "$$\\frac{\\sqrt[3]{6} \\sqrt[3]{\\frac{1}{n}}}{2 \\sqrt[3]{\\pi}}$$"
       ],
       "metadata": {},
       "output_type": "pyout",
       "png": "[encoded data removed]",
       "prompt_number": 5,
       "text": [
        "          ___\n",
        "3 ___    \u2571 1 \n",
        "\u2572\u2571 6 \u22c53 \u2571  \u2500 \n",
        "      \u2572\u2571   n \n",
        "\u2500\u2500\u2500\u2500\u2500\u2500\u2500\u2500\u2500\u2500\u2500\u2500\u2500\n",
        "     3 ___   \n",
        "   2\u22c5\u2572\u2571 \u03c0    "
       ]
      }
     ],
     "prompt_number": 5
    },
    {
     "cell_type": "markdown",
     "metadata": {},
     "source": [
      "### Case $r_s < 1$"
     ]
    },
    {
     "cell_type": "code",
     "collapsed": false,
     "input": [
      "var(\"A B C D\")\n",
      "ec = A*log(rs) + B + C*rs*log(rs) + D*rs\n",
      "ec"
     ],
     "language": "python",
     "metadata": {},
     "outputs": [
      {
       "latex": [
        "$$A \\log{\\left (\\frac{\\sqrt[3]{6} \\sqrt[3]{\\frac{1}{n}}}{2 \\sqrt[3]{\\pi}} \\right )} + B + \\frac{\\sqrt[3]{6} C \\sqrt[3]{\\frac{1}{n}} \\log{\\left (\\frac{\\sqrt[3]{6} \\sqrt[3]{\\frac{1}{n}}}{2 \\sqrt[3]{\\pi}} \\right )}}{2 \\sqrt[3]{\\pi}} + \\frac{\\sqrt[3]{6} D \\sqrt[3]{\\frac{1}{n}}}{2 \\sqrt[3]{\\pi}}$$"
       ],
       "metadata": {},
       "output_type": "pyout",
       "png": "[encoded data removed]",
       "prompt_number": 6,
       "text": [
        "                                              \u239b          ___\u239e                 \n",
        "                                              \u239c3 ___    \u2571 1 \u239f                 \n",
        "                                       ___    \u239c\u2572\u2571 6 \u22c53 \u2571  \u2500 \u239f                 \n",
        "     \u239b          ___\u239e       3 ___      \u2571 1     \u239c      \u2572\u2571   n \u239f               __\n",
        "     \u239c3 ___    \u2571 1 \u239f       \u2572\u2571 6 \u22c5C\u22c53 \u2571  \u2500 \u22c5log\u239c\u2500\u2500\u2500\u2500\u2500\u2500\u2500\u2500\u2500\u2500\u2500\u2500\u2500\u239f   3 ___      \u2571 1\n",
        "     \u239c\u2572\u2571 6 \u22c53 \u2571  \u2500 \u239f               \u2572\u2571   n     \u239c     3 ___   \u239f   \u2572\u2571 6 \u22c5D\u22c53 \u2571  \u2500\n",
        "     \u239c      \u2572\u2571   n \u239f                          \u239d   2\u22c5\u2572\u2571 \u03c0    \u23a0           \u2572\u2571   n\n",
        "A\u22c5log\u239c\u2500\u2500\u2500\u2500\u2500\u2500\u2500\u2500\u2500\u2500\u2500\u2500\u2500\u239f + B + \u2500\u2500\u2500\u2500\u2500\u2500\u2500\u2500\u2500\u2500\u2500\u2500\u2500\u2500\u2500\u2500\u2500\u2500\u2500\u2500\u2500\u2500\u2500\u2500\u2500\u2500\u2500\u2500\u2500\u2500\u2500\u2500\u2500\u2500 + \u2500\u2500\u2500\u2500\u2500\u2500\u2500\u2500\u2500\u2500\u2500\u2500\u2500\u2500\n",
        "     \u239c     3 ___   \u239f                      3 ___                       3 ___   \n",
        "     \u239d   2\u22c5\u2572\u2571 \u03c0    \u23a0                    2\u22c5\u2572\u2571 \u03c0                      2\u22c5\u2572\u2571 \u03c0    \n",
        "\n",
        " \n",
        " \n",
        " \n",
        "_\n",
        " \n",
        " \n",
        " \n",
        "\u2500\n",
        " \n",
        " "
       ]
      }
     ],
     "prompt_number": 6
    },
    {
     "cell_type": "code",
     "collapsed": false,
     "input": [
      "Vc = (n*ec).diff(n).expand()\n",
      "Vc"
     ],
     "language": "python",
     "metadata": {},
     "outputs": [
      {
       "latex": [
        "$$A \\log{\\left (\\sqrt[3]{\\frac{1}{n}} \\right )} - A \\log{\\left (2 \\right )} - \\frac{1}{3} A \\log{\\left (\\pi \\right )} - \\frac{1}{3} A + \\frac{1}{3} A \\log{\\left (6 \\right )} + B + \\frac{\\sqrt[3]{6} C \\sqrt[3]{\\frac{1}{n}} \\log{\\left (\\sqrt[3]{\\frac{1}{n}} \\right )}}{3 \\sqrt[3]{\\pi}} - \\frac{\\sqrt[3]{6} C \\sqrt[3]{\\frac{1}{n}} \\log{\\left (2 \\right )}}{3 \\sqrt[3]{\\pi}} - \\frac{\\sqrt[3]{6} C \\sqrt[3]{\\frac{1}{n}}}{6 \\sqrt[3]{\\pi}} - \\frac{\\sqrt[3]{6} C \\sqrt[3]{\\frac{1}{n}} \\log{\\left (\\pi \\right )}}{9 \\sqrt[3]{\\pi}} + \\frac{\\sqrt[3]{6} C \\sqrt[3]{\\frac{1}{n}} \\log{\\left (6 \\right )}}{9 \\sqrt[3]{\\pi}} + \\frac{\\sqrt[3]{6} D \\sqrt[3]{\\frac{1}{n}}}{3 \\sqrt[3]{\\pi}}$$"
       ],
       "metadata": {},
       "output_type": "pyout",
       "png": "[encoded data removed]",
       "prompt_number": 7,
       "text": [
        "                                                                      ___    \u239b\n",
        "                                                          3 ___      \u2571 1     \u239c\n",
        "     \u239b    ___\u239e                                            \u2572\u2571 6 \u22c5C\u22c53 \u2571  \u2500 \u22c5log\u239c\n",
        "     \u239c   \u2571 1 \u239f              A\u22c5log(\u03c0)   A   A\u22c5log(6)               \u2572\u2571   n     \u239d\n",
        "A\u22c5log\u239c3 \u2571  \u2500 \u239f - A\u22c5log(2) - \u2500\u2500\u2500\u2500\u2500\u2500\u2500\u2500 - \u2500 + \u2500\u2500\u2500\u2500\u2500\u2500\u2500\u2500 + B + \u2500\u2500\u2500\u2500\u2500\u2500\u2500\u2500\u2500\u2500\u2500\u2500\u2500\u2500\u2500\u2500\u2500\u2500\u2500\u2500\n",
        "     \u239d\u2572\u2571   n \u23a0                 3       3      3                       3 ___   \n",
        "                                                                    3\u22c5\u2572\u2571 \u03c0    \n",
        "\n",
        "    ___\u239e               ___                      ___               ___         \n",
        "   \u2571 1 \u239f   3 ___      \u2571 1           3 ___      \u2571 1    3 ___      \u2571 1          \n",
        "3 \u2571  \u2500 \u239f   \u2572\u2571 6 \u22c5C\u22c53 \u2571  \u2500 \u22c5log(2)   \u2572\u2571 6 \u22c5C\u22c53 \u2571  \u2500    \u2572\u2571 6 \u22c5C\u22c53 \u2571  \u2500 \u22c5log(\u03c0)  \n",
        "\u2572\u2571   n \u23a0           \u2572\u2571   n                   \u2572\u2571   n            \u2572\u2571   n          \n",
        "\u2500\u2500\u2500\u2500\u2500\u2500\u2500\u2500 - \u2500\u2500\u2500\u2500\u2500\u2500\u2500\u2500\u2500\u2500\u2500\u2500\u2500\u2500\u2500\u2500\u2500\u2500\u2500\u2500\u2500\u2500 - \u2500\u2500\u2500\u2500\u2500\u2500\u2500\u2500\u2500\u2500\u2500\u2500\u2500\u2500\u2500 - \u2500\u2500\u2500\u2500\u2500\u2500\u2500\u2500\u2500\u2500\u2500\u2500\u2500\u2500\u2500\u2500\u2500\u2500\u2500\u2500\u2500\u2500 +\n",
        "                    3 ___                 3 ___                3 ___          \n",
        "                  3\u22c5\u2572\u2571 \u03c0                6\u22c5\u2572\u2571 \u03c0               9\u22c5\u2572\u2571 \u03c0           \n",
        "\n",
        "             ___                      ___\n",
        " 3 ___      \u2571 1           3 ___      \u2571 1 \n",
        " \u2572\u2571 6 \u22c5C\u22c53 \u2571  \u2500 \u22c5log(6)   \u2572\u2571 6 \u22c5D\u22c53 \u2571  \u2500 \n",
        "         \u2572\u2571   n                   \u2572\u2571   n \n",
        " \u2500\u2500\u2500\u2500\u2500\u2500\u2500\u2500\u2500\u2500\u2500\u2500\u2500\u2500\u2500\u2500\u2500\u2500\u2500\u2500\u2500\u2500 + \u2500\u2500\u2500\u2500\u2500\u2500\u2500\u2500\u2500\u2500\u2500\u2500\u2500\u2500\u2500\n",
        "          3 ___                 3 ___    \n",
        "        9\u22c5\u2572\u2571 \u03c0                3\u22c5\u2572\u2571 \u03c0     "
       ]
      }
     ],
     "prompt_number": 7
    },
    {
     "cell_type": "markdown",
     "metadata": {},
     "source": [
      "Which is a little complicated, so we try the following approach:"
     ]
    },
    {
     "cell_type": "code",
     "collapsed": false,
     "input": [
      "rs.diff(n) / rs"
     ],
     "language": "python",
     "metadata": {},
     "outputs": [
      {
       "latex": [
        "$$- \\frac{1}{3 n}$$"
       ],
       "metadata": {},
       "output_type": "pyout",
       "png": "[encoded data removed]",
       "prompt_number": 8,
       "text": [
        " -1\n",
        "\u2500\u2500\u2500\n",
        "3\u22c5n"
       ]
      }
     ],
     "prompt_number": 8
    },
    {
     "cell_type": "markdown",
     "metadata": {},
     "source": [
      "So ${d r_s \\over d n} = - {1\\over 3n} r_s$."
     ]
    },
    {
     "cell_type": "code",
     "collapsed": false,
     "input": [
      "rs = Function(\"rs\")(n)\n",
      "ec = A*log(rs) + B + C*rs*log(rs) + D*rs\n",
      "ec"
     ],
     "language": "python",
     "metadata": {},
     "outputs": [
      {
       "latex": [
        "$$A \\log{\\left (\\operatorname{rs}{\\left (n \\right )} \\right )} + B + C \\operatorname{rs}{\\left (n \\right )} \\log{\\left (\\operatorname{rs}{\\left (n \\right )} \\right )} + D \\operatorname{rs}{\\left (n \\right )}$$"
       ],
       "metadata": {},
       "output_type": "pyout",
       "png": "[encoded data removed]",
       "prompt_number": 9,
       "text": [
        "A\u22c5log(rs(n)) + B + C\u22c5rs(n)\u22c5log(rs(n)) + D\u22c5rs(n)"
       ]
      }
     ],
     "prompt_number": 9
    },
    {
     "cell_type": "code",
     "collapsed": false,
     "input": [
      "Vc = (n*ec).diff(n).expand()\n",
      "Vc"
     ],
     "language": "python",
     "metadata": {},
     "outputs": [
      {
       "latex": [
        "$$\\frac{A n \\frac{\\partial}{\\partial n} \\operatorname{rs}{\\left (n \\right )}}{\\operatorname{rs}{\\left (n \\right )}} + A \\log{\\left (\\operatorname{rs}{\\left (n \\right )} \\right )} + B + C n \\log{\\left (\\operatorname{rs}{\\left (n \\right )} \\right )} \\frac{\\partial}{\\partial n} \\operatorname{rs}{\\left (n \\right )} + C n \\frac{\\partial}{\\partial n} \\operatorname{rs}{\\left (n \\right )} + C \\operatorname{rs}{\\left (n \\right )} \\log{\\left (\\operatorname{rs}{\\left (n \\right )} \\right )} + D n \\frac{\\partial}{\\partial n} \\operatorname{rs}{\\left (n \\right )} + D \\operatorname{rs}{\\left (n \\right )}$$"
       ],
       "metadata": {},
       "output_type": "pyout",
       "png": "[encoded data removed]",
       "prompt_number": 10,
       "text": [
        "    d                                                                         \n",
        "A\u22c5n\u22c5\u2500\u2500(rs(n))                                                                 \n",
        "    dn                                            d               d           \n",
        "\u2500\u2500\u2500\u2500\u2500\u2500\u2500\u2500\u2500\u2500\u2500\u2500\u2500 + A\u22c5log(rs(n)) + B + C\u22c5n\u22c5log(rs(n))\u22c5\u2500\u2500(rs(n)) + C\u22c5n\u22c5\u2500\u2500(rs(n)) + \n",
        "    rs(n)                                         dn              dn          \n",
        "\n",
        "                                            \n",
        "                                            \n",
        "                         d                  \n",
        "C\u22c5rs(n)\u22c5log(rs(n)) + D\u22c5n\u22c5\u2500\u2500(rs(n)) + D\u22c5rs(n)\n",
        "                         dn                 "
       ]
      }
     ],
     "prompt_number": 10
    },
    {
     "cell_type": "markdown",
     "metadata": {},
     "source": [
      "Now we substitute for the derivative:"
     ]
    },
    {
     "cell_type": "code",
     "collapsed": false,
     "input": [
      "Vc = Vc.subs(rs.diff(n), (-1/(3*n))*rs)\n",
      "Vc"
     ],
     "language": "python",
     "metadata": {},
     "outputs": [
      {
       "latex": [
        "$$A \\log{\\left (\\operatorname{rs}{\\left (n \\right )} \\right )} - \\frac{1}{3} A + B + \\frac{2}{3} C \\operatorname{rs}{\\left (n \\right )} \\log{\\left (\\operatorname{rs}{\\left (n \\right )} \\right )} - \\frac{1}{3} C \\operatorname{rs}{\\left (n \\right )} + \\frac{2}{3} D \\operatorname{rs}{\\left (n \\right )}$$"
       ],
       "metadata": {},
       "output_type": "pyout",
       "png": "[encoded data removed]",
       "prompt_number": 11,
       "text": [
        "               A       2\u22c5C\u22c5rs(n)\u22c5log(rs(n))   C\u22c5rs(n)   2\u22c5D\u22c5rs(n)\n",
        "A\u22c5log(rs(n)) - \u2500 + B + \u2500\u2500\u2500\u2500\u2500\u2500\u2500\u2500\u2500\u2500\u2500\u2500\u2500\u2500\u2500\u2500\u2500\u2500\u2500\u2500 - \u2500\u2500\u2500\u2500\u2500\u2500\u2500 + \u2500\u2500\u2500\u2500\u2500\u2500\u2500\u2500\u2500\n",
        "               3                3                3          3    "
       ]
      }
     ],
     "prompt_number": 11
    },
    {
     "cell_type": "markdown",
     "metadata": {},
     "source": [
      "So this part of $V_c$ can be calculated using the following Fortran statements:\n",
      "\n",
      "    rs = (3/(4*pi*n))**(1.0_dp/3)\n",
      "    ec = A*log(rs) + B + C*rs*log(rs) + D*rs\n",
      "    Vc = A*log(rs) + (B-A/3) + 2*C*rs*log(rs)/3 + (2*D-C)*rs/3"
     ]
    },
    {
     "cell_type": "markdown",
     "metadata": {},
     "source": [
      "### Case $r_s \\ge 1$"
     ]
    },
    {
     "cell_type": "code",
     "collapsed": false,
     "input": [
      "var(\"gamma beta1 beta2\")\n",
      "ec = gamma / (1+beta1*sqrt(rs)+beta2*rs)\n",
      "ec"
     ],
     "language": "python",
     "metadata": {},
     "outputs": [
      {
       "latex": [
        "$$\\frac{\\gamma}{\\beta_{1} \\sqrt{\\operatorname{rs}{\\left (n \\right )}} + \\beta_{2} \\operatorname{rs}{\\left (n \\right )} + 1}$$"
       ],
       "metadata": {},
       "output_type": "pyout",
       "png": "[encoded data removed]",
       "prompt_number": 12,
       "text": [
        "             \u03b3             \n",
        "\u2500\u2500\u2500\u2500\u2500\u2500\u2500\u2500\u2500\u2500\u2500\u2500\u2500\u2500\u2500\u2500\u2500\u2500\u2500\u2500\u2500\u2500\u2500\u2500\u2500\u2500\u2500\n",
        "     _______               \n",
        "\u03b2\u2081\u22c5\u2572\u2571 rs(n)  + \u03b2\u2082\u22c5rs(n) + 1"
       ]
      }
     ],
     "prompt_number": 12
    },
    {
     "cell_type": "code",
     "collapsed": false,
     "input": [
      "Vc = (n*ec).diff(n)\n",
      "Vc"
     ],
     "language": "python",
     "metadata": {},
     "outputs": [
      {
       "latex": [
        "$$\\frac{\\gamma n \\left(- \\frac{\\beta_{1} \\frac{\\partial}{\\partial n} \\operatorname{rs}{\\left (n \\right )}}{2 \\sqrt{\\operatorname{rs}{\\left (n \\right )}}} - \\beta_{2} \\frac{\\partial}{\\partial n} \\operatorname{rs}{\\left (n \\right )}\\right)}{\\left(\\beta_{1} \\sqrt{\\operatorname{rs}{\\left (n \\right )}} + \\beta_{2} \\operatorname{rs}{\\left (n \\right )} + 1\\right)^{2}} + \\frac{\\gamma}{\\beta_{1} \\sqrt{\\operatorname{rs}{\\left (n \\right )}} + \\beta_{2} \\operatorname{rs}{\\left (n \\right )} + 1}$$"
       ],
       "metadata": {},
       "output_type": "pyout",
       "png": "[encoded data removed]",
       "prompt_number": 13,
       "text": [
        "    \u239b     d                       \u239e                              \n",
        "    \u239c  \u03b2\u2081\u22c5\u2500\u2500(rs(n))               \u239f                              \n",
        "    \u239c     dn             d        \u239f                              \n",
        "\u03b3\u22c5n\u22c5\u239c- \u2500\u2500\u2500\u2500\u2500\u2500\u2500\u2500\u2500\u2500\u2500\u2500 - \u03b2\u2082\u22c5\u2500\u2500(rs(n))\u239f                              \n",
        "    \u239c      _______       dn       \u239f                              \n",
        "    \u239d  2\u22c5\u2572\u2571 rs(n)                 \u23a0                \u03b3             \n",
        "\u2500\u2500\u2500\u2500\u2500\u2500\u2500\u2500\u2500\u2500\u2500\u2500\u2500\u2500\u2500\u2500\u2500\u2500\u2500\u2500\u2500\u2500\u2500\u2500\u2500\u2500\u2500\u2500\u2500\u2500\u2500\u2500\u2500\u2500\u2500 + \u2500\u2500\u2500\u2500\u2500\u2500\u2500\u2500\u2500\u2500\u2500\u2500\u2500\u2500\u2500\u2500\u2500\u2500\u2500\u2500\u2500\u2500\u2500\u2500\u2500\u2500\u2500\n",
        "                                2          _______               \n",
        "   \u239b     _______               \u239e      \u03b2\u2081\u22c5\u2572\u2571 rs(n)  + \u03b2\u2082\u22c5rs(n) + 1\n",
        "   \u239d\u03b2\u2081\u22c5\u2572\u2571 rs(n)  + \u03b2\u2082\u22c5rs(n) + 1\u23a0                                 "
       ]
      }
     ],
     "prompt_number": 13
    },
    {
     "cell_type": "code",
     "collapsed": false,
     "input": [
      "Vc = Vc.subs(rs.diff(n), (-1/(3*n))*rs)\n",
      "Vc"
     ],
     "language": "python",
     "metadata": {},
     "outputs": [
      {
       "latex": [
        "$$\\frac{\\gamma n \\left(\\frac{\\beta_{1} \\sqrt{\\operatorname{rs}{\\left (n \\right )}}}{6 n} + \\frac{\\beta_{2} \\operatorname{rs}{\\left (n \\right )}}{3 n}\\right)}{\\left(\\beta_{1} \\sqrt{\\operatorname{rs}{\\left (n \\right )}} + \\beta_{2} \\operatorname{rs}{\\left (n \\right )} + 1\\right)^{2}} + \\frac{\\gamma}{\\beta_{1} \\sqrt{\\operatorname{rs}{\\left (n \\right )}} + \\beta_{2} \\operatorname{rs}{\\left (n \\right )} + 1}$$"
       ],
       "metadata": {},
       "output_type": "pyout",
       "png": "[encoded data removed]",
       "prompt_number": 14,
       "text": [
        "    \u239b     _______           \u239e                               \n",
        "    \u239c\u03b2\u2081\u22c5\u2572\u2571 rs(n)    \u03b2\u2082\u22c5rs(n)\u239f                               \n",
        "\u03b3\u22c5n\u22c5\u239c\u2500\u2500\u2500\u2500\u2500\u2500\u2500\u2500\u2500\u2500\u2500\u2500 + \u2500\u2500\u2500\u2500\u2500\u2500\u2500\u2500\u239f                               \n",
        "    \u239d    6\u22c5n          3\u22c5n   \u23a0                 \u03b3             \n",
        "\u2500\u2500\u2500\u2500\u2500\u2500\u2500\u2500\u2500\u2500\u2500\u2500\u2500\u2500\u2500\u2500\u2500\u2500\u2500\u2500\u2500\u2500\u2500\u2500\u2500\u2500\u2500\u2500\u2500\u2500 + \u2500\u2500\u2500\u2500\u2500\u2500\u2500\u2500\u2500\u2500\u2500\u2500\u2500\u2500\u2500\u2500\u2500\u2500\u2500\u2500\u2500\u2500\u2500\u2500\u2500\u2500\u2500\n",
        "                             2        _______               \n",
        "\u239b     _______               \u239e    \u03b2\u2081\u22c5\u2572\u2571 rs(n)  + \u03b2\u2082\u22c5rs(n) + 1\n",
        "\u239d\u03b2\u2081\u22c5\u2572\u2571 rs(n)  + \u03b2\u2082\u22c5rs(n) + 1\u23a0                               "
       ]
      }
     ],
     "prompt_number": 14
    },
    {
     "cell_type": "markdown",
     "metadata": {},
     "source": [
      "We express $V_c$ as $V_c = e_c \\cdot C$. Arguably the simplest expression for $C$ is:"
     ]
    },
    {
     "cell_type": "code",
     "collapsed": false,
     "input": [
      "C = (Vc / ec).simplify()\n",
      "C"
     ],
     "language": "python",
     "metadata": {},
     "outputs": [
      {
       "latex": [
        "$$\\frac{\\frac{1}{6} \\beta_{1} \\sqrt{\\operatorname{rs}{\\left (n \\right )}} + \\frac{1}{3} \\beta_{2} \\operatorname{rs}{\\left (n \\right )}}{\\beta_{1} \\sqrt{\\operatorname{rs}{\\left (n \\right )}} + \\beta_{2} \\operatorname{rs}{\\left (n \\right )} + 1} + 1$$"
       ],
       "metadata": {},
       "output_type": "pyout",
       "png": "[encoded data removed]",
       "prompt_number": 15,
       "text": [
        "       _______                 \n",
        "  \u03b2\u2081\u22c5\u2572\u2571 rs(n)    \u03b2\u2082\u22c5rs(n)      \n",
        "  \u2500\u2500\u2500\u2500\u2500\u2500\u2500\u2500\u2500\u2500\u2500\u2500 + \u2500\u2500\u2500\u2500\u2500\u2500\u2500\u2500      \n",
        "       6            3          \n",
        "\u2500\u2500\u2500\u2500\u2500\u2500\u2500\u2500\u2500\u2500\u2500\u2500\u2500\u2500\u2500\u2500\u2500\u2500\u2500\u2500\u2500\u2500\u2500\u2500\u2500\u2500\u2500 + 1\n",
        "     _______                   \n",
        "\u03b2\u2081\u22c5\u2572\u2571 rs(n)  + \u03b2\u2082\u22c5rs(n) + 1    "
       ]
      }
     ],
     "prompt_number": 15
    },
    {
     "cell_type": "markdown",
     "metadata": {},
     "source": [
      "But in literature the following is used (both numerator and denumerator must be divided by 6 below):"
     ]
    },
    {
     "cell_type": "code",
     "collapsed": false,
     "input": [
      "C.normal()"
     ],
     "language": "python",
     "metadata": {},
     "outputs": [
      {
       "latex": [
        "$$\\frac{7 \\beta_{1} \\sqrt{\\operatorname{rs}{\\left (n \\right )}} + 8 \\beta_{2} \\operatorname{rs}{\\left (n \\right )} + 6}{6 \\beta_{1} \\sqrt{\\operatorname{rs}{\\left (n \\right )}} + 6 \\beta_{2} \\operatorname{rs}{\\left (n \\right )} + 6}$$"
       ],
       "metadata": {},
       "output_type": "pyout",
       "png": "[encoded data removed]",
       "prompt_number": 16,
       "text": [
        "       _______                 \n",
        "7\u22c5\u03b2\u2081\u22c5\u2572\u2571 rs(n)  + 8\u22c5\u03b2\u2082\u22c5rs(n) + 6\n",
        "\u2500\u2500\u2500\u2500\u2500\u2500\u2500\u2500\u2500\u2500\u2500\u2500\u2500\u2500\u2500\u2500\u2500\u2500\u2500\u2500\u2500\u2500\u2500\u2500\u2500\u2500\u2500\u2500\u2500\u2500\u2500\n",
        "       _______                 \n",
        "6\u22c5\u03b2\u2081\u22c5\u2572\u2571 rs(n)  + 6\u22c5\u03b2\u2082\u22c5rs(n) + 6"
       ]
      }
     ],
     "prompt_number": 16
    },
    {
     "cell_type": "markdown",
     "metadata": {},
     "source": [
      "So the following Fortran statements implement that:\n",
      "\n",
      "    ec = gam / (1+beta1*sqrt(rs)+beta2*rs)\n",
      "    Vc = ec * (1+7*beta1*sqrt(rs)/6 + 4*beta2*rs/3) / (1+beta1*sqrt(rs) + beta2*rs)"
     ]
    },
    {
     "cell_type": "markdown",
     "metadata": {},
     "source": [
      "## Fortran Subroutine\n",
      "\n",
      "The final Fortran subroutine is:\n",
      "\n",
      "    subroutine xc_pz(n, exc, Vxc)\n",
      "    ! Calculates XC LDA density and potential from the charge density \"n\".\n",
      "    ! Uses the Perdew Zunger [1] parametrization.\n",
      "    !\n",
      "    ! [1] Perdew, J. P., & Zunger, A. (1981). Self-interaction correction to\n",
      "    ! density-functional approximations for many-electron systems. Physical Review\n",
      "    ! B, 23(10), 5048\u20135079.\n",
      "    real(dp), intent(in) :: n ! charge density\n",
      "    real(dp), intent(out) :: exc ! XC density\n",
      "    real(dp), intent(out) :: Vxc ! XC potential\n",
      "    \n",
      "    real(dp), parameter :: gam = -0.1423_dp\n",
      "    real(dp), parameter :: beta1 = 1.0529_dp\n",
      "    real(dp), parameter :: beta2 = 0.3334_dp\n",
      "    real(dp), parameter :: A =  0.0311_dp\n",
      "    real(dp), parameter :: B = -0.048_dp\n",
      "    real(dp), parameter :: C =  0.0020_dp\n",
      "    real(dp), parameter :: D = -0.0116_dp\n",
      "    real(dp) :: ex, ec, Vx, Vc, rs\n",
      "    \n",
      "    if (n == 0) then\n",
      "        exc = 0\n",
      "        Vxc = 0\n",
      "        return\n",
      "    end if\n",
      "    \n",
      "    ex = -3/(4*pi) * (3*pi**2*n)**(1.0_dp/3)\n",
      "    Vx = 4*ex/3\n",
      "    \n",
      "    rs = (3/(4*pi*n))**(1.0_dp/3)\n",
      "    if (rs >= 1) then\n",
      "        ec = gam / (1+beta1*sqrt(rs)+beta2*rs)\n",
      "        Vc = ec * (1+7*beta1*sqrt(rs)/6 + 4*beta2*rs/3) / &\n",
      "            (1+beta1*sqrt(rs) + beta2*rs)\n",
      "    else\n",
      "        ec = A*log(rs) + B + C*rs*log(rs) + D*rs\n",
      "        Vc = A*log(rs) + (B-A/3) + 2*C*rs*log(rs)/3 + (2*D-C)*rs/3\n",
      "    end if\n",
      "    \n",
      "    exc = ex + ec\n",
      "    Vxc = Vx + Vc\n",
      "    end subroutine"
     ]
    }
   ],
   "metadata": {}
  }
 ]
}