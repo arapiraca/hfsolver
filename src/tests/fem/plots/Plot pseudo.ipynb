{
 "metadata": {
  "name": "Plot pseudo"
 },
 "nbformat": 3,
 "nbformat_minor": 0,
 "worksheets": [
  {
   "cells": [
    {
     "cell_type": "code",
     "collapsed": false,
     "input": [
      "from numpy import loadtxt\n",
      "D = loadtxt(\"../H.pseudo\", skiprows=1)\n",
      "Z, N, Rcut, Ediff = [float(x) for x in open(\"../H.pseudo\").readline().split()]"
     ],
     "language": "python",
     "metadata": {},
     "outputs": [
      {
       "output_type": "stream",
       "stream": "stdout",
       "text": [
        "-0.2511052112\n"
       ]
      }
     ],
     "prompt_number": 18
    },
    {
     "cell_type": "code",
     "collapsed": false,
     "input": [
      "R = D[:, 0]\n",
      "V = D[:, 1]\n",
      "R = R*Rcut"
     ],
     "language": "python",
     "metadata": {},
     "outputs": [],
     "prompt_number": 19
    },
    {
     "cell_type": "code",
     "collapsed": false,
     "input": [
      "plot(R, 1/R, \"r--\", lw=2, label=\"1/R\")\n",
      "plot(R, V, label=\"H.pseudo\")\n",
      "plot(R, (Z/(2.*Rcut))*(3. - (R/Rcut)**2))\n",
      "ylim([0, 5.5])\n",
      "legend()"
     ],
     "language": "python",
     "metadata": {},
     "outputs": [
      {
       "output_type": "pyout",
       "prompt_number": 27,
       "text": [
        "<matplotlib.legend.Legend at 0x4553e10>"
       ]
      },
      {
       "output_type": "display_data",
       "png": "[encoded data removed]"
      }
     ],
     "prompt_number": 27
    },
    {
     "cell_type": "code",
     "collapsed": false,
     "input": [
      "V"
     ],
     "language": "python",
     "metadata": {},
     "outputs": [
      {
       "output_type": "pyout",
       "prompt_number": 4,
       "text": [
        "array([ 0.      ,  5.      ,  4.999999, ...,  1.819554,  1.819366,\n",
        "        1.819178])"
       ]
      }
     ],
     "prompt_number": 4
    },
    {
     "cell_type": "code",
     "collapsed": false,
     "input": [],
     "language": "python",
     "metadata": {},
     "outputs": []
    }
   ],
   "metadata": {}
  }
 ]
}