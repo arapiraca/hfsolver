{
 "cells": [
  {
   "cell_type": "code",
   "execution_count": null,
   "metadata": {},
   "outputs": [],
   "source": [
    "from pylab import plot, semilogy\n",
    "from numpy import loadtxt, pi, linspace\n",
    "D = loadtxt(\"conv.txt\")\n",
    "N = D[:, 0]\n",
    "DOFs = N**3\n",
    "E = D[:, 1]\n",
    "E_exact = D[-1, 1]\n",
    "\n",
    "calc = abs(E-E_exact)\n",
    "k = 2.8\n",
    "A = calc[0] / exp(-k*DOFs[0]**(1./3))\n",
    "print \"E_exact = %.17f\" % E_exact\n",
    "print \"A =\", A\n",
    "pred_x = linspace(DOFs[0], DOFs[6], 500)\n",
    "pred_y = A * exp(-k*pred_x**(1./3))\n",
    "\n",
    "D1 = loadtxt(\"conv_fe1.txt\")\n",
    "DOFs_fe1 = D1[:, 1]\n",
    "E_fe1 = D1[:, 2]\n",
    "\n",
    "D2 = loadtxt(\"conv_fe2.txt\")\n",
    "DOFs_fe2 = D2[:, 1]\n",
    "E_fe2 = D2[:, 2]\n",
    "\n",
    "D3 = loadtxt(\"conv_fe3.txt\")\n",
    "DOFs_fe3 = D3[:, 1]\n",
    "E_fe3 = D3[:, 2]"
   ]
  },
  {
   "cell_type": "code",
   "execution_count": null,
   "metadata": {},
   "outputs": [],
   "source": [
    "figure(figsize=(8, 6), dpi=80)\n",
    "semilogy(DOFs[:10], calc[:10], \"bo\", label=\"FFT\")\n",
    "semilogy(pred_x, pred_y, \"g-\", label=r\"$740.14\\cdot\\exp(-2.8\\cdot \\mathrm{DOF}^{1/3})$\")\n",
    "semilogy(DOFs_fe1, abs(E_fe1 - E_exact), \"ro-\", label=\"FE 1x1x1\")\n",
    "semilogy(DOFs_fe2, abs(E_fe2 - E_exact), \"go-\", label=\"FE 2x2x2\")\n",
    "semilogy(DOFs_fe3, abs(E_fe3 - E_exact), \"mo-\", label=\"FE 3x3x3\")\n",
    "grid()\n",
    "title(\"Convergence of an FFT Poisson solver (log-linear plot)\")\n",
    "xlabel(\"DOF (total degrees of freedom = N^3)\")\n",
    "ylabel(\"abs(E  -  E_exact)  [a.u.]\")\n",
    "legend(prop={\"size\": 16})\n",
    "savefig(\"fft_convergence_log-linear.png\")"
   ]
  },
  {
   "cell_type": "code",
   "execution_count": null,
   "metadata": {},
   "outputs": [],
   "source": [
    "figure(figsize=(8, 6), dpi=80)\n",
    "loglog(DOFs, calc, \"bo\", label=\"FFT\") \n",
    "loglog(pred_x, pred_y, \"g-\", label=r\"$740.14\\cdot\\exp(-2.8\\cdot \\mathrm{DOF}^{1/3})$\")\n",
    "grid()\n",
    "title(\"Convergence of an FFT Poisson solver (log-log plot)\")\n",
    "xlabel(\"DOF (total degrees of freedom = N^3)\")\n",
    "ylabel(\"abs(E  -  E_exact)  [a.u.]\")\n",
    "legend(prop={\"size\": 16})\n",
    "savefig(\"fft_convergence_log-log.png\")"
   ]
  }
 ],
 "metadata": {
  "kernelspec": {
   "display_name": "Python 2",
   "language": "python",
   "name": "python2"
  },
  "language_info": {
   "codemirror_mode": {
    "name": "ipython",
    "version": 2
   },
   "file_extension": ".py",
   "mimetype": "text/x-python",
   "name": "python",
   "nbconvert_exporter": "python",
   "pygments_lexer": "ipython2",
   "version": "2.7.13"
  }
 },
 "nbformat": 4,
 "nbformat_minor": 1
}
