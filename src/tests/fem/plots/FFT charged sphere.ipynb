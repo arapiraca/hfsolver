{
 "metadata": {
  "name": "FFT charged sphere"
 },
 "nbformat": 3,
 "nbformat_minor": 0,
 "worksheets": [
  {
   "cells": [
    {
     "cell_type": "code",
     "collapsed": false,
     "input": [
      "from numpy import (empty, pi, meshgrid, linspace, sum, sin, exp, shape, sqrt,\n",
      "        conjugate)\n",
      "from numpy.fft import fftn, fftfreq, ifftn\n",
      "\n",
      "N = 200\n",
      "print \"N =\", N\n",
      "L = 2.4*4\n",
      "R = 1.\n",
      "x1d = linspace(-L/2, L/2, N+1)[:-1]\n",
      "x, y, z = meshgrid(x1d, x1d, x1d, indexing=\"ij\")\n",
      "\n",
      "r = sqrt(x**2+y**2+z**2)\n",
      "nr = empty(shape(x), dtype=\"double\")\n",
      "nr[:] = 0\n",
      "nr[r <= R] = -1\n",
      "\n",
      "Vr = empty(shape(x), dtype=\"double\")\n",
      "Vr[r <= R] = -2./3 * pi * (3*R**2 - r[r <= R]**2)\n",
      "Vr[r > R] = -4./3 * pi * R**3 / r[r > R]\n",
      "\n",
      "ng = fftn(nr) / N**3\n",
      "\n",
      "G1d = N * fftfreq(N) * 2*pi/L\n",
      "kx, ky, kz = meshgrid(G1d, G1d, G1d)\n",
      "G2 = kx**2+ky**2+kz**2\n",
      "G2[0, 0, 0] = 1  # omit the G=0 term\n",
      "\n",
      "tmp = 2*pi*abs(ng)**2 / G2\n",
      "tmp[0, 0, 0] = 0  # omit the G=0 term\n",
      "E = sum(tmp) * L**3\n",
      "print \"Hartree Energy (calculated): %.15f\" % E\n",
      "\n",
      "\n",
      "V_r = 4*pi*ng / G2\n",
      "V_r[0, 0, 0] = 0  # omit the G=0 term\n",
      "#print \"Hartree Energy:\", 0.5 * sum(conjugate(V_r)*ng).real * L**3\n",
      "V = ifftn(V_r).real * N**3\n",
      "#l2_norm = sum((Vr - V)**2) / sum(V**2)\n",
      "V += Vr[N/2, N/2, N/2] - V[N/2, N/2, N/2]\n",
      "l2_norm = sum((Vr - V)**2) \n",
      "print \"l2_norm = \", l2_norm\n",
      "plot(x[:, N/2, N/2], Vr[:, N/2, N/2])\n",
      "plot(x[:, N/2, N/2], V[:, N/2, N/2])"
     ],
     "language": "python",
     "metadata": {},
     "outputs": [
      {
       "output_type": "stream",
       "stream": "stdout",
       "text": [
        "N = 200\n",
        "Hartree Energy (calculated): 7.998201029296508"
       ]
      },
      {
       "output_type": "stream",
       "stream": "stdout",
       "text": [
        "\n",
        "l2_norm = "
       ]
      },
      {
       "output_type": "stream",
       "stream": "stdout",
       "text": [
        " 344627.603318"
       ]
      },
      {
       "output_type": "stream",
       "stream": "stdout",
       "text": [
        "\n"
       ]
      },
      {
       "output_type": "pyout",
       "prompt_number": 35,
       "text": [
        "[<matplotlib.lines.Line2D at 0x1adedcd0>]"
       ]
      },
      {
       "output_type": "display_data",
       "png": "[encoded data removed]"
      }
     ],
     "prompt_number": 35
    },
    {
     "cell_type": "code",
     "collapsed": false,
     "input": [],
     "language": "python",
     "metadata": {},
     "outputs": []
    }
   ],
   "metadata": {}
  }
 ]
}