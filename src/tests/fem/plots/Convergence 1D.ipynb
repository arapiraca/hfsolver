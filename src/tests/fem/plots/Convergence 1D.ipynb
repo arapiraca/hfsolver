{
 "cells": [
  {
   "cell_type": "code",
   "execution_count": null,
   "metadata": {},
   "outputs": [],
   "source": [
    "%pylab inline"
   ]
  },
  {
   "cell_type": "code",
   "execution_count": null,
   "metadata": {},
   "outputs": [],
   "source": [
    "D = loadtxt(\"../../fft/pw.txt\", skiprows=5)\n",
    "\n",
    "Ng = D[:, 0]\n",
    "pw_eigs = D[:, 2:]\n",
    "\n",
    "eigs_conv = pw_eigs[-1,:]\n",
    "for i in range(6):\n",
    "    semilogy(Ng, abs(pw_eigs[:, i]-eigs_conv[i]), \"x-\")\n",
    "grid()\n",
    "xlim([0, 100])\n",
    "show()"
   ]
  },
  {
   "cell_type": "code",
   "execution_count": null,
   "metadata": {},
   "outputs": [],
   "source": [
    "print \"Converged (reference) eigenvalues\"\n",
    "for i in range(6):\n",
    "    print i+1, eigs_conv[i]"
   ]
  },
  {
   "cell_type": "code",
   "execution_count": null,
   "metadata": {},
   "outputs": [],
   "source": [
    "D = loadtxt(\"../sfem2.txt\")\n",
    "\n",
    "sfem_DOFs = D[:, 0]\n",
    "sfem_p = D[:, 1]\n",
    "sfem_eigs = D[:, 5:]\n",
    "\n",
    "for i in range(2):\n",
    "    semilogy(sfem_DOFs, abs(sfem_eigs[:, i]-eigs_conv[i]), \"x-\")\n",
    "grid()\n",
    "xlim([0, 100])\n",
    "show()"
   ]
  },
  {
   "cell_type": "code",
   "execution_count": null,
   "metadata": {},
   "outputs": [],
   "source": [
    "D = loadtxt(\"../fem6.txt\")\n",
    "\n",
    "fem6_DOFs = D[:, 0]\n",
    "fem6_eigs = D[:, 5:]\n",
    "\n",
    "for i in range(2):\n",
    "    semilogy(fem6_DOFs, abs(fem6_eigs[:, i]-eigs_conv[i]), \"x-\")\n",
    "grid()\n",
    "xlim([0, 100])\n",
    "show()"
   ]
  },
  {
   "cell_type": "code",
   "execution_count": null,
   "metadata": {},
   "outputs": [],
   "source": [
    "D = loadtxt(\"../fem3.txt\")\n",
    "\n",
    "fem3_DOFs = D[:, 0]\n",
    "fem3_eigs = D[:, 5:]\n",
    "\n",
    "for i in range(2):\n",
    "    semilogy(fem3_DOFs, abs(fem3_eigs[:, i]-eigs_conv[i]), \"x-\")\n",
    "grid()\n",
    "xlim([0, 100])\n",
    "show()"
   ]
  },
  {
   "cell_type": "code",
   "execution_count": null,
   "metadata": {},
   "outputs": [],
   "source": [
    "D = loadtxt(\"../sfem_enr.txt\")\n",
    "\n",
    "sfem_enr_DOFs = D[:, 0]\n",
    "sfem_enr_p = D[:, 1]\n",
    "sfem_enr_eigs = D[:, 5:]\n",
    "\n",
    "for i in range(2):\n",
    "    semilogy(sfem_enr_DOFs, abs(sfem_enr_eigs[:, i]-eigs_conv[i]), \"x-\")\n",
    "grid()\n",
    "\n",
    "xlim([0, 100])\n",
    "show()"
   ]
  },
  {
   "cell_type": "code",
   "execution_count": null,
   "metadata": {},
   "outputs": [],
   "source": [
    "Neig = 2\n",
    "for i in range(Neig):\n",
    "    if i == 0:\n",
    "        kwargs = {\"label\": \"PW\"}\n",
    "    else:\n",
    "        kwargs = {}\n",
    "    semilogy(Ng, abs(pw_eigs[:, i]-eigs_conv[i]), \"k-\", **kwargs)\n",
    "    if i == 0:\n",
    "        kwargs = {\"label\": \"SFEM, Ne=2\"}\n",
    "    else:\n",
    "        kwargs = {}\n",
    "    semilogy(sfem_DOFs, abs(sfem_eigs[:, i]-eigs_conv[i]), \"b-\", **kwargs)\n",
    "    if i == 0:\n",
    "        kwargs = {\"label\": \"SFEM Enrichment, Ne=8\"}\n",
    "    else:\n",
    "        kwargs = {}\n",
    "    semilogy(sfem_enr_DOFs, abs(sfem_enr_eigs[:, i]-eigs_conv[i]), \"g-\", **kwargs)\n",
    "\n",
    "grid()\n",
    "xlim([0, 60])\n",
    "xlabel(\"DOFs\")\n",
    "ylabel(\"Error\")\n",
    "legend()\n",
    "#savefig(\"conv1d.pdf\")\n",
    "show()"
   ]
  },
  {
   "cell_type": "code",
   "execution_count": null,
   "metadata": {},
   "outputs": [],
   "source": [
    "Neig = 1\n",
    "semilogy(Ng[:12], abs(sum(pw_eigs[:, :Neig],axis=1)-sum(eigs_conv[:Neig]))[:12], \"rs\", label=\"PW\")\n",
    "#semilogy(sfem_DOFs[:8], abs(sum(sfem_eigs[:, :Neig],axis=1)-sum(eigs_conv[:Neig]))[:8], \"yo-\", label=\"SFEM, Ne=2\")\n",
    "#semilogy(fem3_DOFs, abs(sum(fem3_eigs[:, :Neig],axis=1)-sum(eigs_conv[:Neig])), \"bo-\", label=\"FEM, p=3\")\n",
    "semilogy(fem6_DOFs, abs(sum(fem6_eigs[:, :Neig],axis=1)-sum(eigs_conv[:Neig])), \"o\", label=\"FEM, p=6\")\n",
    "semilogy(sfem_enr_DOFs[:8], abs(sum(sfem_enr_eigs[:, :Neig],axis=1)-sum(eigs_conv[:Neig]))[:8], \"k^-\", label=\"SFEM+PU, Ne=2\")\n",
    "\n",
    "y = abs(sum(fem6_eigs[:, :Neig],axis=1)-sum(eigs_conv[:Neig]))\n",
    "yy = 1/fem6_DOFs**6\n",
    "yy = yy / yy[0] * y[0]\n",
    "semilogy(fem6_DOFs, yy)\n",
    "\n",
    "y = abs(sum(pw_eigs[:, :Neig],axis=1)-sum(eigs_conv[:Neig]))\n",
    "yy = 1/exp(Ng)\n",
    "yy = yy / yy[10] * y[10]\n",
    "semilogy(Ng, yy)\n",
    "\n",
    "\n",
    "grid()\n",
    "xlim([0, 40])\n",
    "ylim([1e-8, 20])\n",
    "xlabel(\"Number of degrees of freedom\")\n",
    "ylabel(\"Error in ground state energy (Ha)\")\n",
    "legend()\n",
    "savefig(\"conv1d.pdf\")\n",
    "show()"
   ]
  },
  {
   "cell_type": "code",
   "execution_count": null,
   "metadata": {},
   "outputs": [],
   "source": [
    "Neig = 1\n",
    "loglog(Ng**3, abs(sum(pw_eigs[:, :Neig],axis=1)-sum(eigs_conv[:Neig])), \"rs-\", label=\"PW\")\n",
    "loglog(sfem_DOFs**3, abs(sum(sfem_eigs[:, :Neig],axis=1)-sum(eigs_conv[:Neig])), \"g*-\", label=\"SFEM, Ne=2\")\n",
    "loglog(fem3_DOFs**3, abs(sum(fem3_eigs[:, :Neig],axis=1)-sum(eigs_conv[:Neig])), \"bo-\", label=\"FEM, p=3\")\n",
    "loglog(fem6_DOFs**3, abs(sum(fem6_eigs[:, :Neig],axis=1)-sum(eigs_conv[:Neig])), \"yp-\", label=\"FEM, p=6\")\n",
    "loglog(sfem_enr_DOFs**3, abs(sum(sfem_enr_eigs[:, :Neig],axis=1)-sum(eigs_conv[:Neig])), \"k^-\", label=\"SFEM+PU, Ne=2\")\n",
    "\n",
    "grid()\n",
    "xlim([50, 2e5])\n",
    "ylim([5e-5, 2])\n",
    "xlabel(\"Number of degrees of freedom (3D approximation)\")\n",
    "ylabel(\"Error in ground state energy (Ha)\")\n",
    "legend()\n",
    "savefig(\"conv1d_3d.pdf\")\n",
    "show()"
   ]
  }
 ],
 "metadata": {
  "kernelspec": {
   "display_name": "Python 2",
   "language": "python",
   "name": "python2"
  },
  "language_info": {
   "codemirror_mode": {
    "name": "ipython",
    "version": 2
   },
   "file_extension": ".py",
   "mimetype": "text/x-python",
   "name": "python",
   "nbconvert_exporter": "python",
   "pygments_lexer": "ipython2",
   "version": "2.7.13"
  }
 },
 "nbformat": 4,
 "nbformat_minor": 1
}
