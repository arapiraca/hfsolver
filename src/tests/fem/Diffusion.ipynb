{
 "cells": [
  {
   "cell_type": "code",
   "execution_count": null,
   "metadata": {
    "collapsed": false
   },
   "outputs": [],
   "source": [
    "%pylab inline"
   ]
  },
  {
   "cell_type": "code",
   "execution_count": null,
   "metadata": {
    "collapsed": false
   },
   "outputs": [],
   "source": [
    "D = loadtxt(\"log.txt\")\n",
    "n = D[:, 0]\n",
    "Etot = D[:, 1]\n",
    "mu = D[:, 2]\n",
    "mu_Hn = D[:, 3]"
   ]
  },
  {
   "cell_type": "code",
   "execution_count": null,
   "metadata": {
    "collapsed": false
   },
   "outputs": [],
   "source": [
    "plot(n, Etot)\n",
    "grid()\n",
    "xlabel(\"n\")\n",
    "ylabel(\"Total energy [a.u.]\")\n",
    "title(\"Total Energy Convergence\")\n",
    "savefig(\"etot.pdf\")"
   ]
  },
  {
   "cell_type": "code",
   "execution_count": null,
   "metadata": {
    "collapsed": false
   },
   "outputs": [],
   "source": [
    "plot(n, mu, label=\"$\\mu$\")\n",
    "plot(n, mu_Hn, label=\"Average H\")\n",
    "grid()\n",
    "legend()\n",
    "xlabel(\"n\")\n",
    "ylabel(\"Total energy [a.u.]\")\n",
    "title(\"Chemical Potential Convergence\")\n",
    "savefig(\"mu.pdf\")"
   ]
  },
  {
   "cell_type": "code",
   "execution_count": null,
   "metadata": {
    "collapsed": false
   },
   "outputs": [],
   "source": [
    "semilogy(n, abs(Etot-Etot[-1]), label=\"Etot\")\n",
    "semilogy(n, abs(mu-mu[-1]), label=\"$\\mu$\")\n",
    "semilogy(n, abs(mu_Hn-mu_Hn[-1]), label=\"$\\mu$ from H\")\n",
    "legend()\n",
    "grid()\n",
    "xlabel(\"n\")\n",
    "ylabel(\"Error [a.u.]\")\n",
    "title(\"Convergence Study\")\n",
    "savefig(\"etot_error.pdf\")"
   ]
  }
 ],
 "metadata": {
  "kernelspec": {
   "display_name": "Python 2",
   "language": "python",
   "name": "python2"
  },
  "language_info": {
   "codemirror_mode": {
    "name": "ipython",
    "version": 2
   },
   "file_extension": ".py",
   "mimetype": "text/x-python",
   "name": "python",
   "nbconvert_exporter": "python",
   "pygments_lexer": "ipython2",
   "version": "2.7.11"
  }
 },
 "nbformat": 4,
 "nbformat_minor": 0
}
