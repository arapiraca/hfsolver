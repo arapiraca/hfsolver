{
 "metadata": {
  "name": "",
  "signature": "sha256:fec512215d7157fd2bff2d9ef4578832465739937fe90af6be4f376f73002185"
 },
 "nbformat": 3,
 "nbformat_minor": 0,
 "worksheets": [
  {
   "cells": [
    {
     "cell_type": "code",
     "collapsed": false,
     "input": [
      "from sympy.interactive import init_printing\n",
      "init_printing()\n",
      "from sympy import sqrt, sin, cos, pi, var, integrate, Symbol, S, Integral\n",
      "def rpoisson(f, r):\n",
      "    return -(r**2*f.diff(r)).diff(r)/r**2/(4*pi)\n",
      "def rpoisson_int(nr, r):\n",
      "    # Boundary conditions:\n",
      "    # r_c^2*v'(r_c) = -1       (1)\n",
      "    # v(r_c) = 1/r_c           (2)\n",
      "    first = ((-4*pi*nr)*r**2).integrate(r)\n",
      "    first = first - first.subs(r, r_c) + (-1)     # Impose (1)\n",
      "    second = (first/r**2).integrate(r)\n",
      "    second = second - second.subs(r, r_c) + 1/r_c # Impose (2)\n",
      "    return second\n",
      "def check_gr_vr(gr, vr, r, r_c):\n",
      "    # Some checks:\n",
      "    # density is zero at r=r_c\n",
      "    assert gr.subs(r, r_c).simplify() == 0\n",
      "    # density is normalized to 1\n",
      "    assert integrate(4*pi*r**2*gr, (r, 0, r_c)).simplify() == 1\n",
      "    # vr is the potential corresponding to the density gr\n",
      "    assert (gr-rpoisson(vr, r)).simplify() == 0\n",
      "    # gr is the density corresponding to vr\n",
      "    assert (vr-rpoisson_int(gr, r)).simplify() == 0"
     ],
     "language": "python",
     "metadata": {},
     "outputs": [],
     "prompt_number": 49
    },
    {
     "cell_type": "code",
     "collapsed": false,
     "input": [
      "var(\"r r_c\")\n",
      "gr = -21*(r-r_c)**3*(6*r**2+3*r*r_c+r_c**2)/(5*pi*r_c**8)\n",
      "vr = (9*r**7 - 30*r**6*r_c + 28*r**5*r_c**2 - 14*r**2*r_c**5 + 12*r_c**7)/(5*r_c**8)"
     ],
     "language": "python",
     "metadata": {},
     "outputs": [],
     "prompt_number": 13
    },
    {
     "cell_type": "code",
     "collapsed": false,
     "input": [
      "check_gr_vr(gr, vr, r, r_c)"
     ],
     "language": "python",
     "metadata": {},
     "outputs": [],
     "prompt_number": 14
    },
    {
     "cell_type": "code",
     "collapsed": false,
     "input": [
      "Ig = integrate(4*pi*r**2*gr*(1/r-vr), (r, 0, r_c))\n",
      "assert Ig == 10976/(17875*r_c)\n",
      "Ig"
     ],
     "language": "python",
     "metadata": {},
     "outputs": [
      {
       "latex": [
        "$$\\frac{10976}{17875 r_{c}}$$"
       ],
       "metadata": {},
       "output_type": "pyout",
       "png": "[encoded data removed]",
       "prompt_number": 15,
       "text": [
        "  10976  \n",
        "\u2500\u2500\u2500\u2500\u2500\u2500\u2500\u2500\u2500\n",
        "17875\u22c5r_c"
       ]
      }
     ],
     "prompt_number": 15
    },
    {
     "cell_type": "code",
     "collapsed": false,
     "input": [
      "Isph = integrate(4*pi*r**2*(1/r-vr), (r, 0, r_c))\n",
      "assert Isph == 14*pi*r_c**2/75\n",
      "Isph"
     ],
     "language": "python",
     "metadata": {},
     "outputs": [
      {
       "latex": [
        "$$\\frac{14 \\pi}{75} r_{c}^{2}$$"
       ],
       "metadata": {},
       "output_type": "pyout",
       "png": "[encoded data removed]",
       "prompt_number": 16,
       "text": [
        "        2\n",
        "14\u22c5\u03c0\u22c5r_c \n",
        "\u2500\u2500\u2500\u2500\u2500\u2500\u2500\u2500\u2500\n",
        "    75   "
       ]
      }
     ],
     "prompt_number": 16
    },
    {
     "cell_type": "markdown",
     "metadata": {},
     "source": [
      "# Example 1"
     ]
    },
    {
     "cell_type": "code",
     "collapsed": false,
     "input": [
      "#gr = cos(pi*r/r_c/2) /( 8*r_c**3*(-8 + pi**2)/pi**2 )\n",
      "gr = 1-(r/r_c)**2\n",
      "gr = gr / integrate(4*pi*r**2*gr, (r, 0, r_c))\n",
      "gr = gr.simplify()\n",
      "gr"
     ],
     "language": "python",
     "metadata": {},
     "outputs": [
      {
       "latex": [
        "$$\\frac{- 15 r^{2} + 15 r_{c}^{2}}{8 \\pi r_{c}^{5}}$$"
       ],
       "metadata": {},
       "output_type": "pyout",
       "png": "[encoded data removed]",
       "prompt_number": 6,
       "text": [
        "   \u239b   2      2\u239e\n",
        "15\u22c5\u239d- r  + r_c \u23a0\n",
        "\u2500\u2500\u2500\u2500\u2500\u2500\u2500\u2500\u2500\u2500\u2500\u2500\u2500\u2500\u2500\u2500\n",
        "           5    \n",
        "    8\u22c5\u03c0\u22c5r_c     "
       ]
      }
     ],
     "prompt_number": 6
    },
    {
     "cell_type": "code",
     "collapsed": false,
     "input": [
      "vr = rpoisson_int(gr, r).simplify()\n",
      "vr"
     ],
     "language": "python",
     "metadata": {},
     "outputs": [
      {
       "latex": [
        "$$\\frac{1}{8 r_{c}^{5}} \\left(3 r^{4} - 10 r^{2} r_{c}^{2} + 15 r_{c}^{4}\\right)$$"
       ],
       "metadata": {},
       "output_type": "pyout",
       "png": "[encoded data removed]",
       "prompt_number": 7,
       "text": [
        "   4       2    2         4\n",
        "3\u22c5r  - 10\u22c5r \u22c5r_c  + 15\u22c5r_c \n",
        "\u2500\u2500\u2500\u2500\u2500\u2500\u2500\u2500\u2500\u2500\u2500\u2500\u2500\u2500\u2500\u2500\u2500\u2500\u2500\u2500\u2500\u2500\u2500\u2500\u2500\u2500\u2500\n",
        "                5          \n",
        "           8\u22c5r_c           "
       ]
      }
     ],
     "prompt_number": 7
    },
    {
     "cell_type": "code",
     "collapsed": false,
     "input": [
      "check_gr_vr(gr, vr, r, r_c)"
     ],
     "language": "python",
     "metadata": {},
     "outputs": [],
     "prompt_number": 8
    },
    {
     "cell_type": "code",
     "collapsed": false,
     "input": [
      "Ig = integrate(4*pi*r**2*gr*(1/r-vr), (r, 0, r_c))\n",
      "Ig"
     ],
     "language": "python",
     "metadata": {},
     "outputs": [
      {
       "latex": [
        "$$\\frac{25}{56 r_{c}}$$"
       ],
       "metadata": {},
       "output_type": "pyout",
       "png": "[encoded data removed]",
       "prompt_number": 9,
       "text": [
        "  25  \n",
        "\u2500\u2500\u2500\u2500\u2500\u2500\n",
        "56\u22c5r_c"
       ]
      }
     ],
     "prompt_number": 9
    },
    {
     "cell_type": "code",
     "collapsed": false,
     "input": [
      "Isph = integrate(4*pi*r**2*(1/r-vr), (r, 0, r_c))\n",
      "Isph"
     ],
     "language": "python",
     "metadata": {},
     "outputs": [
      {
       "latex": [
        "$$\\frac{2 \\pi}{7} r_{c}^{2}$$"
       ],
       "metadata": {},
       "output_type": "pyout",
       "png": "[encoded data removed]",
       "prompt_number": 10,
       "text": [
        "       2\n",
        "2\u22c5\u03c0\u22c5r_c \n",
        "\u2500\u2500\u2500\u2500\u2500\u2500\u2500\u2500\n",
        "   7    "
       ]
      }
     ],
     "prompt_number": 10
    },
    {
     "cell_type": "code",
     "collapsed": false,
     "input": [
      "print \"Ig =\", Ig\n",
      "print \"Isph =\", Isph\n",
      "print \"v0 =\", vr.limit(r, 0)\n",
      "print\n",
      "print \"gr =\", gr"
     ],
     "language": "python",
     "metadata": {},
     "outputs": [
      {
       "output_type": "stream",
       "stream": "stdout",
       "text": [
        "Ig = 25/(56*r_c)\n",
        "Isph = 2*pi*r_c**2/7\n",
        "v0 = "
       ]
      },
      {
       "output_type": "stream",
       "stream": "stdout",
       "text": [
        "15/(8*r_c)\n",
        "\n",
        "gr = 15*(-r**2 + r_c**2)/(8*pi*r_c**5)\n"
       ]
      }
     ],
     "prompt_number": 11
    },
    {
     "cell_type": "markdown",
     "metadata": {},
     "source": [
      "# Example 2"
     ]
    },
    {
     "cell_type": "code",
     "collapsed": false,
     "input": [
      "n = 10\n",
      "p = r**(n-1)\n",
      "syms = sympy.symbols(\"a0:%d\" % (n-1))\n",
      "for i in range(n-1):\n",
      "    p += syms[i]*r**i\n",
      "f = (1-r)**n * p\n",
      "eqs = [f.diff(r, i).subs(r, 0) for i in range(1, n)]\n",
      "d = sympy.solve(eqs, syms)\n",
      "f = f.subs(d)\n",
      "gr = f.subs(r, r/r_c)\n",
      "gr = gr / integrate(4*pi*r**2*gr, (r, 0, r_c))\n",
      "gr = gr.simplify()\n",
      "gr"
     ],
     "language": "python",
     "metadata": {},
     "outputs": [
      {
       "latex": [
        "$$\\frac{21 \\left(r - r_{c}\\right)^{10}}{4 \\pi r_{c}^{22}} \\left(48620 r^{9} + 24310 r^{8} r_{c} + 11440 r^{7} r_{c}^{2} + 5005 r^{6} r_{c}^{3} + 2002 r^{5} r_{c}^{4} + 715 r^{4} r_{c}^{5} + 220 r^{3} r_{c}^{6} + 55 r^{2} r_{c}^{7} + 10 r r_{c}^{8} + r_{c}^{9}\\right)$$"
       ],
       "metadata": {},
       "output_type": "pyout",
       "png": "[encoded data removed]",
       "prompt_number": 147,
       "text": [
        "            10 \u239b       9          8              7    2         6    3        \n",
        "21\u22c5(r - r_c)  \u22c5\u239d48620\u22c5r  + 24310\u22c5r \u22c5r_c + 11440\u22c5r \u22c5r_c  + 5005\u22c5r \u22c5r_c  + 2002\u22c5\n",
        "\u2500\u2500\u2500\u2500\u2500\u2500\u2500\u2500\u2500\u2500\u2500\u2500\u2500\u2500\u2500\u2500\u2500\u2500\u2500\u2500\u2500\u2500\u2500\u2500\u2500\u2500\u2500\u2500\u2500\u2500\u2500\u2500\u2500\u2500\u2500\u2500\u2500\u2500\u2500\u2500\u2500\u2500\u2500\u2500\u2500\u2500\u2500\u2500\u2500\u2500\u2500\u2500\u2500\u2500\u2500\u2500\u2500\u2500\u2500\u2500\u2500\u2500\u2500\u2500\u2500\u2500\u2500\u2500\u2500\u2500\u2500\u2500\u2500\u2500\u2500\u2500\u2500\u2500\n",
        "                                                                           22 \n",
        "                                                                    4\u22c5\u03c0\u22c5r_c   \n",
        "\n",
        " 5    4        4    5        3    6       2    7           8      9\u239e\n",
        "r \u22c5r_c  + 715\u22c5r \u22c5r_c  + 220\u22c5r \u22c5r_c  + 55\u22c5r \u22c5r_c  + 10\u22c5r\u22c5r_c  + r_c \u23a0\n",
        "\u2500\u2500\u2500\u2500\u2500\u2500\u2500\u2500\u2500\u2500\u2500\u2500\u2500\u2500\u2500\u2500\u2500\u2500\u2500\u2500\u2500\u2500\u2500\u2500\u2500\u2500\u2500\u2500\u2500\u2500\u2500\u2500\u2500\u2500\u2500\u2500\u2500\u2500\u2500\u2500\u2500\u2500\u2500\u2500\u2500\u2500\u2500\u2500\u2500\u2500\u2500\u2500\u2500\u2500\u2500\u2500\u2500\u2500\u2500\u2500\u2500\u2500\u2500\u2500\u2500\u2500\u2500\u2500\n",
        "                                                                    \n",
        "                                                                    "
       ]
      }
     ],
     "prompt_number": 147
    },
    {
     "cell_type": "code",
     "collapsed": false,
     "input": [
      "vr = rpoisson_int(gr, r).simplify()\n",
      "vr"
     ],
     "language": "python",
     "metadata": {},
     "outputs": [
      {
       "latex": [
        "$$\\frac{1}{4 r_{c}^{22}} \\left(- 8840 r^{21} + 92378 r^{20} r_{c} - 432432 r^{19} r_{c}^{2} + 1191190 r^{18} r_{c}^{3} - 2130128 r^{17} r_{c}^{4} + 2567565 r^{16} r_{c}^{5} - 2089164 r^{15} r_{c}^{6} + 1108536 r^{14} r_{c}^{7} - 348840 r^{13} r_{c}^{8} + 49742 r^{12} r_{c}^{9} - 14 r^{2} r_{c}^{19} + 11 r_{c}^{21}\\right)$$"
       ],
       "metadata": {},
       "output_type": "pyout",
       "png": "[encoded data removed]",
       "prompt_number": 148,
       "text": [
        "        21          20               19    2            18    3            17 \n",
        "- 8840\u22c5r   + 92378\u22c5r  \u22c5r_c - 432432\u22c5r  \u22c5r_c  + 1191190\u22c5r  \u22c5r_c  - 2130128\u22c5r  \u22c5\n",
        "\u2500\u2500\u2500\u2500\u2500\u2500\u2500\u2500\u2500\u2500\u2500\u2500\u2500\u2500\u2500\u2500\u2500\u2500\u2500\u2500\u2500\u2500\u2500\u2500\u2500\u2500\u2500\u2500\u2500\u2500\u2500\u2500\u2500\u2500\u2500\u2500\u2500\u2500\u2500\u2500\u2500\u2500\u2500\u2500\u2500\u2500\u2500\u2500\u2500\u2500\u2500\u2500\u2500\u2500\u2500\u2500\u2500\u2500\u2500\u2500\u2500\u2500\u2500\u2500\u2500\u2500\u2500\u2500\u2500\u2500\u2500\u2500\u2500\u2500\u2500\u2500\u2500\u2500\n",
        "                                                                              \n",
        "                                                                              \n",
        "\n",
        "   4            16    5            15    6            14    7           13    \n",
        "r_c  + 2567565\u22c5r  \u22c5r_c  - 2089164\u22c5r  \u22c5r_c  + 1108536\u22c5r  \u22c5r_c  - 348840\u22c5r  \u22c5r_c\n",
        "\u2500\u2500\u2500\u2500\u2500\u2500\u2500\u2500\u2500\u2500\u2500\u2500\u2500\u2500\u2500\u2500\u2500\u2500\u2500\u2500\u2500\u2500\u2500\u2500\u2500\u2500\u2500\u2500\u2500\u2500\u2500\u2500\u2500\u2500\u2500\u2500\u2500\u2500\u2500\u2500\u2500\u2500\u2500\u2500\u2500\u2500\u2500\u2500\u2500\u2500\u2500\u2500\u2500\u2500\u2500\u2500\u2500\u2500\u2500\u2500\u2500\u2500\u2500\u2500\u2500\u2500\u2500\u2500\u2500\u2500\u2500\u2500\u2500\u2500\u2500\u2500\u2500\u2500\n",
        "                       22                                                     \n",
        "                  4\u22c5r_c                                                       \n",
        "\n",
        "8          12    9       2    19         21\n",
        "  + 49742\u22c5r  \u22c5r_c  - 14\u22c5r \u22c5r_c   + 11\u22c5r_c  \n",
        "\u2500\u2500\u2500\u2500\u2500\u2500\u2500\u2500\u2500\u2500\u2500\u2500\u2500\u2500\u2500\u2500\u2500\u2500\u2500\u2500\u2500\u2500\u2500\u2500\u2500\u2500\u2500\u2500\u2500\u2500\u2500\u2500\u2500\u2500\u2500\u2500\u2500\u2500\u2500\u2500\u2500\u2500\u2500\n",
        "                                           \n",
        "                                           "
       ]
      }
     ],
     "prompt_number": 148
    },
    {
     "cell_type": "code",
     "collapsed": false,
     "input": [
      "check_gr_vr(gr, vr, r, r_c)"
     ],
     "language": "python",
     "metadata": {},
     "outputs": [],
     "prompt_number": 149
    },
    {
     "cell_type": "code",
     "collapsed": false,
     "input": [
      "Ig = integrate(4*pi*r**2*gr*(1/r-vr), (r, 0, r_c))\n",
      "Ig"
     ],
     "language": "python",
     "metadata": {},
     "outputs": [
      {
       "latex": [
        "$$\\frac{517399110137}{809268832200 r_{c}}$$"
       ],
       "metadata": {},
       "output_type": "pyout",
       "png": "[encoded data removed]",
       "prompt_number": 150,
       "text": [
        "  517399110137  \n",
        "\u2500\u2500\u2500\u2500\u2500\u2500\u2500\u2500\u2500\u2500\u2500\u2500\u2500\u2500\u2500\u2500\n",
        "809268832200\u22c5r_c"
       ]
      }
     ],
     "prompt_number": 150
    },
    {
     "cell_type": "code",
     "collapsed": false,
     "input": [
      "Isph = integrate(4*pi*r**2*(1/r-vr), (r, 0, r_c))\n",
      "Isph"
     ],
     "language": "python",
     "metadata": {},
     "outputs": [
      {
       "latex": [
        "$$\\frac{91 \\pi}{690} r_{c}^{2}$$"
       ],
       "metadata": {},
       "output_type": "pyout",
       "png": "[encoded data removed]",
       "prompt_number": 151,
       "text": [
        "        2\n",
        "91\u22c5\u03c0\u22c5r_c \n",
        "\u2500\u2500\u2500\u2500\u2500\u2500\u2500\u2500\u2500\n",
        "   690   "
       ]
      }
     ],
     "prompt_number": 151
    },
    {
     "cell_type": "code",
     "collapsed": false,
     "input": [
      "print \"Ig =\", Ig\n",
      "print \"Isph =\", Isph\n",
      "print \"v0 =\", vr.limit(r, 0)\n",
      "print\n",
      "print \"gr =\", gr"
     ],
     "language": "python",
     "metadata": {},
     "outputs": [
      {
       "output_type": "stream",
       "stream": "stdout",
       "text": [
        "Ig = 517399110137/(809268832200*r_c)\n",
        "Isph = 91*pi*r_c**2/690\n",
        "v0 = "
       ]
      },
      {
       "output_type": "stream",
       "stream": "stdout",
       "text": [
        "11/(4*r_c)\n",
        "\n",
        "gr = 21*(r - r_c)**10*(48620*r**9 + 24310*r**8*r_c + 11440*r**7*r_c**2 + 5005*r**6*r_c**3 + 2002*r**5*r_c**4 + 715*r**4*r_c**5 + 220*r**3*r_c**6 + 55*r**2*r_c**7 + 10*r*r_c**8 + r_c**9)/(4*pi*r_c**22)\n"
       ]
      }
     ],
     "prompt_number": 152
    },
    {
     "cell_type": "code",
     "collapsed": false,
     "input": [
      "print \"Ig =\", str(Ig).replace(\"r_c\", \"rc\")\n",
      "print \"Isph =\", str(Isph).replace(\"r_c\", \"rc\")\n",
      "print \"v0 =\", str(vr.limit(r, 0)).replace(\"r_c\", \"rc\")\n",
      "print\n",
      "print \"gr =\", str(gr).replace(\"r_c\", \"rc\")"
     ],
     "language": "python",
     "metadata": {},
     "outputs": [
      {
       "output_type": "stream",
       "stream": "stdout",
       "text": [
        "Ig = 517399110137/(809268832200*rc)\n",
        "Isph = 91*pi*rc**2/690\n",
        "v0 = 11/(4*rc)\n",
        "\n",
        "gr = 21*(r - rc)**10*(48620*r**9 + 24310*r**8*rc + 11440*r**7*rc**2 + 5005*r**6*rc**3 + 2002*r**5*rc**4 + 715*r**4*rc**5 + 220*r**3*rc**6 + 55*r**2*rc**7 + 10*r*rc**8 + rc**9)/(4*pi*rc**22)\n"
       ]
      }
     ],
     "prompt_number": 156
    },
    {
     "cell_type": "code",
     "collapsed": false,
     "input": [],
     "language": "python",
     "metadata": {},
     "outputs": []
    }
   ],
   "metadata": {}
  }
 ]
}