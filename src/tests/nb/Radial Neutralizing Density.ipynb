{
 "metadata": {
  "name": "",
  "signature": "sha256:f748214b15978df39e2c618ce55765d56134cda0afe0d67e35ad92daf4bf4544"
 },
 "nbformat": 3,
 "nbformat_minor": 0,
 "worksheets": [
  {
   "cells": [
    {
     "cell_type": "code",
     "collapsed": false,
     "input": [
      "from sympy.interactive import init_printing\n",
      "init_printing()\n",
      "from sympy import sqrt, sin, cos, pi, var, integrate, Symbol, S, Integral\n",
      "def rpoisson(f, r):\n",
      "    return -(r**2*f.diff(r)).diff(r)/r**2/(4*pi)\n",
      "def rpoisson_int(nr, r):\n",
      "    # Boundary conditions:\n",
      "    # r_c^2*v'(r_c) = -1       (1)\n",
      "    # v(r_c) = 1/r_c           (2)\n",
      "    first = ((-4*pi*nr)*r**2).integrate(r)\n",
      "    first = first - first.subs(r, r_c) + (-1)     # Impose (1)\n",
      "    second = (first/r**2).integrate(r)\n",
      "    second = second - second.subs(r, r_c) + 1/r_c # Impose (2)\n",
      "    return second\n",
      "def check_gr_vr(gr, vr, r, r_c):\n",
      "    # Some checks:\n",
      "    # density is zero at r=r_c\n",
      "    assert gr.subs(r, r_c).simplify() == 0\n",
      "    # density is normalized to 1\n",
      "    assert integrate(4*pi*r**2*gr, (r, 0, r_c)).simplify() == 1\n",
      "    # vr is the potential corresponding to the density gr\n",
      "    assert (gr-rpoisson(vr, r)).simplify() == 0\n",
      "    # gr is the density corresponding to vr\n",
      "    assert (vr-rpoisson_int(gr, r)).simplify() == 0"
     ],
     "language": "python",
     "metadata": {},
     "outputs": [],
     "prompt_number": 1
    },
    {
     "cell_type": "code",
     "collapsed": false,
     "input": [
      "var(\"r r_c\")\n",
      "gr = -21*(r-r_c)**3*(6*r**2+3*r*r_c+r_c**2)/(5*pi*r_c**8)\n",
      "vr = (9*r**7 - 30*r**6*r_c + 28*r**5*r_c**2 - 14*r**2*r_c**5 + 12*r_c**7)/(5*r_c**8)"
     ],
     "language": "python",
     "metadata": {},
     "outputs": [],
     "prompt_number": 2
    },
    {
     "cell_type": "code",
     "collapsed": false,
     "input": [
      "check_gr_vr(gr, vr, r, r_c)"
     ],
     "language": "python",
     "metadata": {},
     "outputs": [],
     "prompt_number": 3
    },
    {
     "cell_type": "code",
     "collapsed": false,
     "input": [
      "Ig = integrate(4*pi*r**2*gr*(1/r-vr), (r, 0, r_c))\n",
      "assert Ig == 10976/(17875*r_c)\n",
      "Ig"
     ],
     "language": "python",
     "metadata": {},
     "outputs": [
      {
       "latex": [
        "$$\\frac{10976}{17875 r_{c}}$$"
       ],
       "metadata": {},
       "output_type": "pyout",
       "png": "[encoded data removed]",
       "prompt_number": 4,
       "text": [
        "  10976  \n",
        "\u2500\u2500\u2500\u2500\u2500\u2500\u2500\u2500\u2500\n",
        "17875\u22c5r_c"
       ]
      }
     ],
     "prompt_number": 4
    },
    {
     "cell_type": "code",
     "collapsed": false,
     "input": [
      "Isph = integrate(4*pi*r**2*(1/r-vr), (r, 0, r_c))\n",
      "assert Isph == 14*pi*r_c**2/75\n",
      "Isph"
     ],
     "language": "python",
     "metadata": {},
     "outputs": [
      {
       "latex": [
        "$$\\frac{14 \\pi}{75} r_{c}^{2}$$"
       ],
       "metadata": {},
       "output_type": "pyout",
       "png": "[encoded data removed]",
       "prompt_number": 5,
       "text": [
        "        2\n",
        "14\u22c5\u03c0\u22c5r_c \n",
        "\u2500\u2500\u2500\u2500\u2500\u2500\u2500\u2500\u2500\n",
        "    75   "
       ]
      }
     ],
     "prompt_number": 5
    },
    {
     "cell_type": "markdown",
     "metadata": {},
     "source": [
      "# Another example"
     ]
    },
    {
     "cell_type": "code",
     "collapsed": false,
     "input": [
      "#gr = cos(pi*r/r_c/2) /( 8*r_c**3*(-8 + pi**2)/pi**2 )\n",
      "gr = 1-(r/r_c)**2\n",
      "gr = gr / integrate(4*pi*r**2*gr, (r, 0, r_c))\n",
      "gr = gr.simplify()\n",
      "gr"
     ],
     "language": "python",
     "metadata": {},
     "outputs": [
      {
       "latex": [
        "$$\\frac{- 15 r^{2} + 15 r_{c}^{2}}{8 \\pi r_{c}^{5}}$$"
       ],
       "metadata": {},
       "output_type": "pyout",
       "png": "[encoded data removed]",
       "prompt_number": 6,
       "text": [
        "   \u239b   2      2\u239e\n",
        "15\u22c5\u239d- r  + r_c \u23a0\n",
        "\u2500\u2500\u2500\u2500\u2500\u2500\u2500\u2500\u2500\u2500\u2500\u2500\u2500\u2500\u2500\u2500\n",
        "           5    \n",
        "    8\u22c5\u03c0\u22c5r_c     "
       ]
      }
     ],
     "prompt_number": 6
    },
    {
     "cell_type": "code",
     "collapsed": false,
     "input": [
      "vr = rpoisson_int(gr, r).simplify()\n",
      "vr"
     ],
     "language": "python",
     "metadata": {},
     "outputs": [
      {
       "latex": [
        "$$\\frac{1}{8 r_{c}^{5}} \\left(3 r^{4} - 10 r^{2} r_{c}^{2} + 15 r_{c}^{4}\\right)$$"
       ],
       "metadata": {},
       "output_type": "pyout",
       "png": "[encoded data removed]",
       "prompt_number": 7,
       "text": [
        "   4       2    2         4\n",
        "3\u22c5r  - 10\u22c5r \u22c5r_c  + 15\u22c5r_c \n",
        "\u2500\u2500\u2500\u2500\u2500\u2500\u2500\u2500\u2500\u2500\u2500\u2500\u2500\u2500\u2500\u2500\u2500\u2500\u2500\u2500\u2500\u2500\u2500\u2500\u2500\u2500\u2500\n",
        "                5          \n",
        "           8\u22c5r_c           "
       ]
      }
     ],
     "prompt_number": 7
    },
    {
     "cell_type": "code",
     "collapsed": false,
     "input": [
      "check_gr_vr(gr, vr, r, r_c)"
     ],
     "language": "python",
     "metadata": {},
     "outputs": [],
     "prompt_number": 8
    },
    {
     "cell_type": "code",
     "collapsed": false,
     "input": [
      "Ig = integrate(4*pi*r**2*gr*(1/r-vr), (r, 0, r_c))\n",
      "Ig"
     ],
     "language": "python",
     "metadata": {},
     "outputs": [
      {
       "latex": [
        "$$\\frac{25}{56 r_{c}}$$"
       ],
       "metadata": {},
       "output_type": "pyout",
       "png": "[encoded data removed]",
       "prompt_number": 9,
       "text": [
        "  25  \n",
        "\u2500\u2500\u2500\u2500\u2500\u2500\n",
        "56\u22c5r_c"
       ]
      }
     ],
     "prompt_number": 9
    },
    {
     "cell_type": "code",
     "collapsed": false,
     "input": [
      "Isph = integrate(4*pi*r**2*(1/r-vr), (r, 0, r_c))\n",
      "Isph"
     ],
     "language": "python",
     "metadata": {},
     "outputs": [
      {
       "latex": [
        "$$\\frac{2 \\pi}{7} r_{c}^{2}$$"
       ],
       "metadata": {},
       "output_type": "pyout",
       "png": "[encoded data removed]",
       "prompt_number": 10,
       "text": [
        "       2\n",
        "2\u22c5\u03c0\u22c5r_c \n",
        "\u2500\u2500\u2500\u2500\u2500\u2500\u2500\u2500\n",
        "   7    "
       ]
      }
     ],
     "prompt_number": 10
    },
    {
     "cell_type": "code",
     "collapsed": false,
     "input": [
      "print \"Ig =\", Ig\n",
      "print \"Isph =\", Isph\n",
      "print \"v0 =\", vr.limit(r, 0)\n",
      "print\n",
      "print \"gr =\", gr"
     ],
     "language": "python",
     "metadata": {},
     "outputs": [
      {
       "output_type": "stream",
       "stream": "stdout",
       "text": [
        "Ig = 25/(56*r_c)\n",
        "Isph = 2*pi*r_c**2/7\n",
        "v0 = "
       ]
      },
      {
       "output_type": "stream",
       "stream": "stdout",
       "text": [
        "15/(8*r_c)\n",
        "\n",
        "gr = 15*(-r**2 + r_c**2)/(8*pi*r_c**5)\n"
       ]
      }
     ],
     "prompt_number": 11
    }
   ],
   "metadata": {}
  }
 ]
}