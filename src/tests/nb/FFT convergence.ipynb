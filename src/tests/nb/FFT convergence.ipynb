{
 "cells": [
  {
   "cell_type": "code",
   "execution_count": null,
   "metadata": {
    "collapsed": false
   },
   "outputs": [],
   "source": [
    "%pylab inline\n",
    "from sympy.interactive import init_printing\n",
    "init_printing()\n",
    "from sympy import sqrt, sin, pi, var, integrate, Symbol, S, Integral\n",
    "var(\"x y z\")\n",
    "n = 3 * ((x-1)**2 + (y-1)**2 + (z-1)**2 - 1) / pi\n",
    "Vh = -((x-1)**4 + (y-1)**4 + (z-1)**4) + 2*(x**2+y**2+z**2)\n",
    "def laplace(f):\n",
    "    return f.diff(x, 2) + f.diff(y, 2) + f.diff(z, 2)\n",
    "print \"n =\"\n",
    "n"
   ]
  },
  {
   "cell_type": "code",
   "execution_count": null,
   "metadata": {
    "collapsed": false
   },
   "outputs": [],
   "source": [
    "print \"Vh =\"\n",
    "Vh"
   ]
  },
  {
   "cell_type": "markdown",
   "metadata": {},
   "source": [
    "Let's check charge neutrality:"
   ]
  },
  {
   "cell_type": "code",
   "execution_count": null,
   "metadata": {
    "collapsed": false
   },
   "outputs": [],
   "source": [
    "integrate(n, (x, 0, 2), (y, 0, 2), (z, 0, 2))"
   ]
  },
  {
   "cell_type": "markdown",
   "metadata": {},
   "source": [
    "$V_H$ is produced by the charge density $n$:"
   ]
  },
  {
   "cell_type": "code",
   "execution_count": null,
   "metadata": {
    "collapsed": false
   },
   "outputs": [],
   "source": [
    "laplace(Vh) / (-4*pi)"
   ]
  },
  {
   "cell_type": "code",
   "execution_count": null,
   "metadata": {
    "collapsed": false
   },
   "outputs": [],
   "source": [
    "_.simplify()"
   ]
  },
  {
   "cell_type": "markdown",
   "metadata": {},
   "source": [
    "The Hartree energy $E_H$ is: "
   ]
  },
  {
   "cell_type": "code",
   "execution_count": null,
   "metadata": {
    "collapsed": false
   },
   "outputs": [],
   "source": [
    "integrate(Vh*n, (x, 0, 2), (y, 0, 2), (z, 0, 2))/2"
   ]
  },
  {
   "cell_type": "markdown",
   "metadata": {},
   "source": [
    "We are solving a Poisson equation:\n",
    "$$\\nabla^2 V_H(x, y, z) = -4\\pi n(x, y, z)$$\n",
    "with\n",
    "$$n(x, y, z) = {3\\over\\pi} ((x-1)^2 + (y-1)^2 + (z-1)^2 - 1)$$\n",
    "on the domain $[0, 2] \\times [0, 2] \\times [0, 2]$ with periodic boundary condition. This charge density is net neutral. The solution is given by:\n",
    "$$\n",
    "V_H({\\bf x}) = \\int {n({\\bf y})\\over |{\\bf x}-{\\bf y}|} d^3 y\n",
    "$$\n",
    "where ${\\bf x}=(x, y, z)$. In reciprocal space\n",
    "$$\n",
    "V_H({\\bf G}) = 4\\pi {n({\\bf G})\\over G^2}\n",
    "$$\n",
    "where ${\\bf G}$ are the reciprocal space vectors. I am interested in the Hartree energy:\n",
    "$$\n",
    "E_H = {1\\over 2} \\int {n({\\bf x}) n({\\bf y})\\over |{\\bf x}-{\\bf y}|} d^3 x d^3 y\n",
    "= {1\\over 2} \\int V_H({\\bf x}) n({\\bf x}) d^3 x\n",
    "$$\n",
    "In reciprocal space this becomes (after discretization):\n",
    "$$\n",
    "E_H = 2\\pi \\sum_{{\\bf G}\\ne 0} {|n({\\bf G})|^2\\over G^2}\n",
    "$$\n",
    "The ${\\bf G}=0$ term is omitted, which effectively makes the charge density net neutral (and since it is already neutral, then everything is consistent).\n",
    "\n",
    "For the test problem above, this can be evaluated analytically and one gets:\n",
    "$$\n",
    "E_H = {128\\over 35\\pi} = 1.16410...\n",
    "$$\n",
    "Now we implement the FFT solver in NumPy below and plot the convergence graphs with respect to this exact energy.\n",
    "\n",
    "\n",
    "This problem has also been discussed at:\n",
    "\n",
    "http://scicomp.stackexchange.com/questions/7097/convergence-rate-of-fft-poisson-solver/7169\n",
    "\n",
    "[Computational Science StackExchange](http://scicomp.stackexchange.com/) is a great site to ask these questions!"
   ]
  },
  {
   "cell_type": "code",
   "execution_count": null,
   "metadata": {
    "collapsed": false
   },
   "outputs": [],
   "source": [
    "from numpy import empty, pi, meshgrid, linspace, sum\n",
    "from numpy.fft import fftn, fftfreq\n",
    "E_exact = 128/(35*pi)\n",
    "print \"Hartree Energy (exact):      %.15f\" % E_exact\n",
    "f = open(\"conv.txt\", \"w\")\n",
    "N = 1\n",
    "for i in range(1, 9):\n",
    "    N *= 2\n",
    "    print \"N =\", N\n",
    "    L = 2.\n",
    "    x1d = linspace(0, L, N+1)[:-1]\n",
    "    x, y, z = meshgrid(x1d, x1d, x1d)\n",
    "\n",
    "    nr = 3 * ((x-1)**2 + (y-1)**2 + (z-1)**2 - 1) / pi\n",
    "    ng = fftn(nr) / N**3\n",
    "\n",
    "    G1d = N * fftfreq(N) * 2*pi/L\n",
    "    kx, ky, kz = meshgrid(G1d, G1d, G1d)\n",
    "    G2 = kx**2+ky**2+kz**2\n",
    "    G2[0, 0, 0] = 1  # omit the G=0 term\n",
    "\n",
    "    tmp = 2*pi*abs(ng)**2 / G2\n",
    "    tmp[0, 0, 0] = 0  # omit the G=0 term\n",
    "    E = sum(tmp) * L**3\n",
    "    print \"Hartree Energy (calculated): %.15f\" % E\n",
    "    f.write(\"%d %.15f\\n\" % (N, E))\n",
    "f.close()"
   ]
  },
  {
   "cell_type": "code",
   "execution_count": null,
   "metadata": {
    "collapsed": false
   },
   "outputs": [],
   "source": [
    "from pylab import plot, semilogy\n",
    "from numpy import loadtxt, pi\n",
    "D = loadtxt(\"conv.txt\")\n",
    "N = D[:, 0]\n",
    "E = D[:, 1]\n",
    "E_exact = 128/(35*pi)"
   ]
  },
  {
   "cell_type": "code",
   "execution_count": null,
   "metadata": {
    "collapsed": false
   },
   "outputs": [],
   "source": [
    "figure(figsize=(8, 6), dpi=80)\n",
    "semilogy(N, E-E_exact, \"k-\")\n",
    "grid()\n",
    "title(\"Convergence of an FFT Poisson solver (semilogy)\")\n",
    "xlabel(\"N (number of PW in each direction)\")\n",
    "ylabel(\"E  -  E_exact  [a.u.]\")\n",
    "savefig(\"fft_convergence_semilogy.png\")"
   ]
  },
  {
   "cell_type": "code",
   "execution_count": null,
   "metadata": {
    "collapsed": false
   },
   "outputs": [],
   "source": [
    "figure(figsize=(8, 6), dpi=80)\n",
    "calculated = E-E_exact\n",
    "loglog(N, E-E_exact, \"ko\", label=\"calculated\")\n",
    "predicted = 1/N**2\n",
    "predicted = predicted * (calculated[-1] /  predicted[-1])\n",
    "loglog(N, predicted, \"g-\", label=\"$1/N^2$\")\n",
    "grid()\n",
    "title(\"Convergence of an FFT Poisson solver (loglog)\")\n",
    "xlabel(\"N (number of PW in each direction)\")\n",
    "ylabel(\"E  -  E_exact  [a.u.]\")\n",
    "legend()\n",
    "savefig(\"fft_convergence_loglog.png\")"
   ]
  },
  {
   "cell_type": "markdown",
   "metadata": {},
   "source": [
    "## Solution"
   ]
  },
  {
   "cell_type": "code",
   "execution_count": null,
   "metadata": {
    "collapsed": false
   },
   "outputs": [],
   "source": [
    "from numpy import empty, pi, meshgrid, linspace, sum, exp, sin\n",
    "from numpy.fft import fftn, fftfreq\n",
    "f = open(\"conv2.txt\", \"w\")\n",
    "for N in range(3, 30, 2):\n",
    "    print \"N =\", N\n",
    "    L = 2.\n",
    "    x1d = linspace(0, L, N+1)[:-1]\n",
    "    x, y, z = meshgrid(x1d, x1d, x1d)\n",
    "\n",
    "    nr = 3*pi*exp(sin(pi*x)*sin(pi*y)*sin(pi*z))/4\n",
    "    ng = fftn(nr) / N**3\n",
    "\n",
    "    G1d = N * fftfreq(N) * 2*pi/L\n",
    "    kx, ky, kz = meshgrid(G1d, G1d, G1d)\n",
    "    G2 = kx**2+ky**2+kz**2\n",
    "    G2[0, 0, 0] = 1  # omit the G=0 term\n",
    "\n",
    "    tmp = 2*pi*abs(ng)**2 / G2\n",
    "    tmp[0, 0, 0] = 0  # omit the G=0 term\n",
    "    E = sum(tmp) * L**3\n",
    "    print \"Hartree Energy (calculated): %.15f\" % E\n",
    "    f.write(\"%d %.15f\\n\" % (N, E))\n",
    "f.close()"
   ]
  },
  {
   "cell_type": "code",
   "execution_count": null,
   "metadata": {
    "collapsed": false
   },
   "outputs": [],
   "source": [
    "from pylab import plot, semilogy\n",
    "from numpy import loadtxt, pi\n",
    "D = loadtxt(\"conv2.txt\")\n",
    "N = D[:, 0]\n",
    "E = D[:, 1]\n",
    "E_exact = E[-1]\n",
    "\n",
    "figure(figsize=(8, 6), dpi=80)\n",
    "calculated = E-E_exact\n",
    "semilogy(N, E-E_exact, \"ko-\", label=\"calculated\")\n",
    "grid()\n",
    "title(\"Convergence of an FFT Poisson solver (loglog)\")\n",
    "xlabel(\"N (number of PW in each direction)\")\n",
    "ylabel(\"E  -  E_exact  [a.u.]\")\n",
    "legend()\n",
    "savefig(\"fft_convergence_loglog.png\")"
   ]
  }
 ],
 "metadata": {
  "kernelspec": {
   "display_name": "Python 2",
   "language": "python",
   "name": "python2"
  },
  "language_info": {
   "codemirror_mode": {
    "name": "ipython",
    "version": 2
   },
   "file_extension": ".py",
   "mimetype": "text/x-python",
   "name": "python",
   "nbconvert_exporter": "python",
   "pygments_lexer": "ipython2",
   "version": "2.7.11"
  }
 },
 "nbformat": 4,
 "nbformat_minor": 0
}
