{
 "cells": [
  {
   "cell_type": "code",
   "execution_count": null,
   "metadata": {
    "collapsed": false
   },
   "outputs": [],
   "source": [
    "%pylab inline"
   ]
  },
  {
   "cell_type": "code",
   "execution_count": null,
   "metadata": {
    "collapsed": false
   },
   "outputs": [],
   "source": [
    "D = loadtxt(\"../ewald_conv4.txt\")\n",
    "n = D[:,0]\n",
    "E = D[:,1]"
   ]
  },
  {
   "cell_type": "code",
   "execution_count": null,
   "metadata": {
    "collapsed": false
   },
   "outputs": [],
   "source": [
    "err = abs(E-E[-1])\n",
    "err_est = exp(-n / sqrt(2))\n",
    "err_est *= err[5]/err_est[5]\n",
    "semilogy(n, err_est, lw=2, label=\"~ $e^{-n/\\sqrt{2}}$\")\n",
    "semilogy(n, err, \"o\", label=\"Calculation\")\n",
    "grid()\n",
    "title(\"FFT convergence to E=%.12f\" % E[-1])\n",
    "legend()\n",
    "ylim([1e-15, 1e7])\n",
    "xlabel(\"Number of plane waves in each direction\")\n",
    "ylabel(\"Error in Coulomb energy per atom (Ha)\")\n",
    "savefig(\"coulomb_fft_conv.pdf\")"
   ]
  }
 ],
 "metadata": {
  "kernelspec": {
   "display_name": "Python 2",
   "language": "python",
   "name": "python2"
  },
  "language_info": {
   "codemirror_mode": {
    "name": "ipython",
    "version": 2
   },
   "file_extension": ".py",
   "mimetype": "text/x-python",
   "name": "python",
   "nbconvert_exporter": "python",
   "pygments_lexer": "ipython2",
   "version": "2.7.11"
  }
 },
 "nbformat": 4,
 "nbformat_minor": 0
}
