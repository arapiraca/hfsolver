{
 "metadata": {
  "name": "",
  "signature": "sha256:9c1f65dfba77ea9ab66483d2b4ad10341c34b9eabdf705197516b96b881bade1"
 },
 "nbformat": 3,
 "nbformat_minor": 0,
 "worksheets": [
  {
   "cells": [
    {
     "cell_type": "code",
     "collapsed": false,
     "input": [
      "%pylab inline"
     ],
     "language": "python",
     "metadata": {},
     "outputs": []
    },
    {
     "cell_type": "code",
     "collapsed": false,
     "input": [
      "D = loadtxt(\"../ewald_convN.txt\")\n",
      "i = D[:, 0]\n",
      "N = D[:, 1]\n",
      "t1 = D[:, 2]\n",
      "t2 = D[:, 3]"
     ],
     "language": "python",
     "metadata": {},
     "outputs": []
    },
    {
     "cell_type": "code",
     "collapsed": false,
     "input": [
      "ta = N**2\n",
      "ta = ta / ta[5] * t2[5]\n",
      "loglog(N, t1, \"o-\")\n",
      "loglog(N, t2, \"o-\")\n",
      "loglog(N, ta, \"-\")"
     ],
     "language": "python",
     "metadata": {},
     "outputs": []
    }
   ],
   "metadata": {}
  }
 ]
}