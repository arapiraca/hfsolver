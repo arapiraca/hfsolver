{
 "cells": [
  {
   "cell_type": "code",
   "execution_count": null,
   "metadata": {
    "collapsed": false
   },
   "outputs": [],
   "source": [
    "%pylab inline"
   ]
  },
  {
   "cell_type": "code",
   "execution_count": null,
   "metadata": {
    "collapsed": false
   },
   "outputs": [],
   "source": [
    "D = loadtxt(\"../ewald_convN.txt\")\n",
    "i = D[:, 0]\n",
    "N = D[:, 1]\n",
    "t1 = D[:, 2]\n",
    "t2 = D[:, 3]"
   ]
  },
  {
   "cell_type": "code",
   "execution_count": null,
   "metadata": {
    "collapsed": false
   },
   "outputs": [],
   "source": [
    "t1a = N**2\n",
    "t1a = t1a / t1a[5] * t1[5]\n",
    "loglog(N, t1, \"o-\", label=\"Ewald\")\n",
    "loglog(N, t1a, \"-\", label=\"$N^2$\")\n",
    "t2a = N\n",
    "t2a = t2a / t2a[5] * t2[5]\n",
    "loglog(N, t2, \"o-\", label=\"Ewald FFT\")\n",
    "loglog(N, t2a, \"-\", label=\"$N$\")\n",
    "legend(loc=\"upper left\")\n",
    "title(\"Ewald scaling with number of atoms $N$\")\n",
    "grid()\n",
    "xlabel(\"$N$\")\n",
    "ylabel(\"Time [s]\")\n",
    "savefig(\"ewald_N_scaling.pdf\")"
   ]
  }
 ],
 "metadata": {
  "kernelspec": {
   "display_name": "Python 2",
   "language": "python",
   "name": "python2"
  },
  "language_info": {
   "codemirror_mode": {
    "name": "ipython",
    "version": 2
   },
   "file_extension": ".py",
   "mimetype": "text/x-python",
   "name": "python",
   "nbconvert_exporter": "python",
   "pygments_lexer": "ipython2",
   "version": "2.7.11"
  }
 },
 "nbformat": 4,
 "nbformat_minor": 0
}
