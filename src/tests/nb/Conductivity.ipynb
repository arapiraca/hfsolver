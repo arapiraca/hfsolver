{
 "cells": [
  {
   "cell_type": "code",
   "execution_count": null,
   "metadata": {
    "collapsed": false
   },
   "outputs": [],
   "source": [
    "%pylab inline"
   ]
  },
  {
   "cell_type": "code",
   "execution_count": null,
   "metadata": {
    "collapsed": true
   },
   "outputs": [],
   "source": [
    "D = loadtxt(\"../fem/cond.txt\")"
   ]
  },
  {
   "cell_type": "code",
   "execution_count": null,
   "metadata": {
    "collapsed": false
   },
   "outputs": [],
   "source": [
    "i = D[:, 0]\n",
    "t = D[:, 1]\n",
    "Etot = D[:, 2]\n",
    "Ex = D[:, 3]\n",
    "cond = D[:, 4]\n",
    "current = D[:, 5:8]\n",
    "norm = D[:, 8]\n",
    "dt = D[:, 9]\n",
    "dt_max = D[:, 10]"
   ]
  },
  {
   "cell_type": "code",
   "execution_count": null,
   "metadata": {
    "collapsed": false,
    "scrolled": true
   },
   "outputs": [],
   "source": [
    "plot(i, Etot, \"x\")\n",
    "title(\"Total free energy\")\n",
    "xlabel(\"t [time steps]\")\n",
    "ylabel(\"F [eV/atom]\")\n",
    "show()"
   ]
  },
  {
   "cell_type": "code",
   "execution_count": null,
   "metadata": {
    "collapsed": false
   },
   "outputs": [],
   "source": [
    "plot(t, Ex, \"x\")\n",
    "title(\"Electrical field in $x$-direction\")\n",
    "xlabel(\"t [a.u.]\")\n",
    "show()"
   ]
  },
  {
   "cell_type": "code",
   "execution_count": null,
   "metadata": {
    "collapsed": false
   },
   "outputs": [],
   "source": [
    "plot(t, norm-128, \"x\")\n",
    "title(\"Norm of Psi\")\n",
    "xlabel(\"t [a.u.]\")\n",
    "show()"
   ]
  },
  {
   "cell_type": "code",
   "execution_count": null,
   "metadata": {
    "collapsed": false
   },
   "outputs": [],
   "source": [
    "plot(t, dt_max, \"x-\")\n",
    "plot(t, dt, \"-\")\n",
    "title(\"Maximal time step\")\n",
    "xlabel(\"t [a.u.]\")\n",
    "show()"
   ]
  },
  {
   "cell_type": "code",
   "execution_count": null,
   "metadata": {
    "collapsed": false
   },
   "outputs": [],
   "source": [
    "plot(t, current[:, 0], label=\"x\")\n",
    "plot(t, current[:, 1], label=\"y\")\n",
    "plot(t, current[:, 2], label=\"z\")\n",
    "title(\"Electrical current in $x$, $y$ and $z$ directions\")\n",
    "xlabel(\"t [a.u.]\")\n",
    "legend()\n",
    "show()"
   ]
  },
  {
   "cell_type": "code",
   "execution_count": null,
   "metadata": {
    "collapsed": false
   },
   "outputs": [],
   "source": [
    "plot(t, cond)\n",
    "title(\"Electrical conductivity in $x$ direction\")\n",
    "xlabel(\"t [a.u.]\")\n",
    "show()"
   ]
  }
 ],
 "metadata": {
  "kernelspec": {
   "display_name": "Python 2",
   "language": "python",
   "name": "python2"
  },
  "language_info": {
   "codemirror_mode": {
    "name": "ipython",
    "version": 2
   },
   "file_extension": ".py",
   "mimetype": "text/x-python",
   "name": "python",
   "nbconvert_exporter": "python",
   "pygments_lexer": "ipython2",
   "version": "2.7.11"
  }
 },
 "nbformat": 4,
 "nbformat_minor": 0
}
